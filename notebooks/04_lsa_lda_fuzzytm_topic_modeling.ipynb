{
 "cells": [
  {
   "cell_type": "code",
   "execution_count": 1,
   "metadata": {
    "colab": {
     "base_uri": "https://localhost:8080/"
    },
    "executionInfo": {
     "elapsed": 7106,
     "status": "ok",
     "timestamp": 1665646835264,
     "user": {
      "displayName": "Nemania Borovits",
      "userId": "12051785864540074566"
     },
     "user_tz": -120
    },
    "id": "qsv226K6-g29",
    "outputId": "ed03235f-6be0-4f42-b90d-95fc07f1ea23"
   },
   "outputs": [],
   "source": [
    "import pickle\n",
    "import re\n",
    "\n",
    "from gensim.models.coherencemodel import CoherenceModel\n",
    "from gensim.utils import simple_preprocess\n",
    "from gensim.models import LsiModel\n",
    "from gensim.models import LdaModel\n",
    "from gensim import similarities\n",
    "import gensim.corpora as corpora\n",
    "import gensim\n",
    "\n",
    "# import pyLDAvis.gensim_models as gensimvis\n",
    "# import pyLDAvis\n",
    "\n",
    "from nltk.tokenize import RegexpTokenizer\n",
    "from nltk.corpus import stopwords\n",
    "from nltk.stem.porter import PorterStemmer\n",
    "import nltk\n",
    "\n",
    "from FuzzyTM import FLSA_W\n",
    "\n",
    "import matplotlib.pyplot as plt\n",
    "import pandas as pd"
   ]
  },
  {
   "cell_type": "code",
   "execution_count": 2,
   "metadata": {},
   "outputs": [],
   "source": [
    "# pyLDAvis.enable_notebook()"
   ]
  },
  {
   "cell_type": "code",
   "execution_count": 3,
   "metadata": {},
   "outputs": [
    {
     "name": "stderr",
     "output_type": "stream",
     "text": [
      "[nltk_data] Downloading package stopwords to\n",
      "[nltk_data]     /home/tomdewildt/nltk_data...\n",
      "[nltk_data]   Package stopwords is already up-to-date!\n"
     ]
    },
    {
     "data": {
      "text/plain": [
       "True"
      ]
     },
     "execution_count": 3,
     "metadata": {},
     "output_type": "execute_result"
    }
   ],
   "source": [
    "nltk.download(\"stopwords\")"
   ]
  },
  {
   "cell_type": "code",
   "execution_count": 4,
   "metadata": {
    "executionInfo": {
     "elapsed": 1096,
     "status": "ok",
     "timestamp": 1665646836355,
     "user": {
      "displayName": "Nemania Borovits",
      "userId": "12051785864540074566"
     },
     "user_tz": -120
    },
    "id": "_D867yo_EZ-w"
   },
   "outputs": [],
   "source": [
    "with open(\"../data/documents.pkl\", \"rb\") as input_file:\n",
    "    tm_data = pickle.load(input_file)   "
   ]
  },
  {
   "cell_type": "code",
   "execution_count": 5,
   "metadata": {
    "colab": {
     "base_uri": "https://localhost:8080/"
    },
    "executionInfo": {
     "elapsed": 229,
     "status": "ok",
     "timestamp": 1665646848424,
     "user": {
      "displayName": "Nemania Borovits",
      "userId": "12051785864540074566"
     },
     "user_tz": -120
    },
    "id": "nxI85L6FqVK1",
    "outputId": "4c1c4e52-6263-4494-8806-b9edbae4ee78"
   },
   "outputs": [
    {
     "name": "stdout",
     "output_type": "stream",
     "text": [
      "Barclays' defiance of US fines has merit Barclays disgraced itself in many ways during the pre-financial crisis boom years. So it is tempting to think the bank, when asked by US Department of Justice to pay a large bill for polluting the financial system with mortgage junk between 2005 and 2007, should cough up, apologise and learn some humility. That is not the view of the chief executive, Jes Staley. Barclays thinks the DoJâ€™s claims are â€œdisconnected from the factsâ€ and that it has â€œan obligation to our shareholders, customers, clients and employees to defend ourselves against unreasonable allegations and demands.â€ The stance is possibly foolhardy, since going into open legal battle with the most powerful US prosecutor is risky, especially if you end up losing. But actually, some grudging respect for Staley and Barclays is in order. The US system for dishing out fines to errant banks for their mortgage sins has come to resemble a casino. The approach prefers settlements behind closed doors and the difference in size of penalties is never explained. Occasional leaks of the negotiating demands make the methodology appear even more arbitrary. Deutsche Bank was initially asked for $14bn (Â£11.5bn), but reached a settlement of $7.2bn on Thursday. Where is the rhyme or reason? There is also a strong suspicion that the roulette wheel is weighted against the Europeans. US banks, in the forms of JP Morgan, Goldman Sachs, Morgan Stanley, Bank of America and Citi, were at the front of the queue for settlement for no obvious reason. If Barclays created and distributed far fewer toxic mortgage securities than its US rivals, which is what the bank argues, why shouldnâ€™t its fine be proportionately smaller? Neither Barclays nor the DoJ is talking hard numbers. But Barclays, it is said, was asked for $4bn, versus its own analysis that a fair sum would be $1bn and $2bn could have been swallowed for the sake of certainty. When the gap is so wide, Barclays is entitled to take its chances in court â€“ and yes, it probably has an obligation to do so. A board canâ€™t let $2bn slip out of the door just for the sake of a quiet life. The case will be messy, inevitably. Barclaysâ€™ practices were â€œplainly irresponsible and dishonest,â€ according to Loretta Lynch, the US attorney general. There is also a cache of ugly emails and documents. The DoJ lawsuit says Barclays employees called one parcel of securitised loans â€œcraptacularâ€. Another was said to â€œlook like shitâ€. However, that is almost par for the course in these cases. The central question is the right size of penalty. If Barclays thinks it has been singled out for unduly harsh treatment, the bank should try to prove its case. Staley will look like a fool if he fails, but the willingness to reject the easy option of settling is entirely legitimate. \n",
      "\n",
      "How big is Hillary Clinton's lead in the presidential race? It depends on the poll Democratic candidate Hillary Clinton now has an 11-percentage-point lead over her Republican opponent Donald Trump, according to a poll released by PRRI and the Atlantic on Tuesday. If that werenâ€™t already reason enough for Trump supporters to worry, a poll from NBC and the Wall Street Journal released on Monday put Clintonâ€™s lead at 14 percentage points. But why the difference in numbers? If you want to follow polls in the 28 remaining days before the US votes, I strongly recommend you ignore the date that the poll was published â€“ and focus instead on the dates that the poll was conducted. That PRRI/Atlantic poll was based on landline and cellphone interviews that took place on 5-9 October while the data for the NBC/WSJ poll was gathered on 8-9 October. Those dates are potentially significant given that on 8 October, a 2005 recording was released of Trump saying that, thanks to his fame, he was able to grab women â€œby the pussyâ€. Itâ€™s highly likely that a larger proportion of respondents were interviewed after the Trump recording was made public in the NBC/WSJ poll compared with the PRRI/Atlantic poll. That could mean a 14-percentage-point lead is a more accurate indication of Clintonâ€™s current position in the race. But the crucial question is whether Clintonâ€™s lead is temporary or permanent. Weâ€™ll need to keep an eye on numbers in the days ahead to understand that. In the meantime, though, itâ€™s worth looking beyond the horserace numbers that appear at the top of the survey and digging a little further. In the PRRI/Atlantic poll, I was curious about a question that provided the statement: â€œThese days society seems to punish men just for acting like menâ€ â€“ 36% of respondents agreed. Another 41% agreed with the statement: â€œSociety as a whole has become too soft and feminine.â€ Those attitudes could provide useful information for understanding why voters might support their respective candidates. \n",
      "\n",
      "Zikaâ€™s greatest ally is human intransigence The revenge of the viruses marches on. After bird flu and Ebola comes Zika, and the possibility of widespread child deformity in mosquito-infested parts of the globe. The impact of the disease is as yet unpredictable, but its spread is so far fierce and unstoppable, and the disease is incurable. While a precise causal link between Zika and small-brain deformity in babies is unproven, the precautionary principle clearly applies. Standing across the path of action are two massive and conservative bureaucracies, the World Health Organisation and the Roman Catholic church. The WHO, caught napping on Ebola, is trying desperately not to repeat the fiasco. But its message is the plodding one, that women should don insect repellent and not get pregnant. With over half of Latin American pregnancies unintended and mosquitoes endemic, it is like holding back a tsunami with a spoon. The Catholic church is equally unhelpful. It discourages birth control, opposes state contraception programmes and bans abortion. In El Salvador an infected woman who seeks an abortion goes to jail. Common humanity demands that this stop. Such is Zikaâ€™s virulence that a sizable proportion of the current generation of Latin American children could yet be born severely disabled. With Ebola the contagion was contained by ruthless isolation and, eventually, drugs. With Zika there is as yet no such remedy. Mass eradication of mosquitoes clearly holds the key, to Zika and many other insect-borne diseases, but that has been the case for decades. The mosquito has long held sway over humankind as the fittest, most adaptable and most vengeful of creatures. So far Zika is confined to Latin America â€“ but what if it reaches Africa? One hope is that introducing new strains of genetically modified male insects holds the key. Early tests in Brazil are promising in reducing mosquito populations, but this has to be a patchy remedy and reports of bureaucratic obstacles suggest the usual delay. Women in these countries need reassurance and emergency help. Since the present danger lies in conception, the relief must lie in access to contraception and ensuring reproductive rights. Insect repellents and lab experiments are no use to an expectant mother, frantic with fear, whose government and church offer nothing but jail or despair. \n",
      "\n",
      "Fight for the right: Cruz and Rubio spar in Nevada to be Trump's challenger Ted Cruz and Marco Rubio arrived in Nevada late on Sunday with distinctly different pitches for why each should be considered the most viable challenger to the Republican presidential frontrunner, Donald Trump. The two first-term senators effectively tied in South Carolinaâ€™s primary at the weekend and are running short of time to stop Trump, who beat them both by a 10-point margin, from clinching the Republican nomination for the White House. Both senators vowed that they were uniquely positioned to defeat the real estate mogul, but whereas Cruz focused his efforts on firing up Nevadaâ€™s rural, religious right, Rubio underscored the need for a more diverse coalition of conservatives reflective of a new generation. Rubio, who spent part of his childhood in Nevada, a state in which close to half the population are minorities, talked about the support he received from South Carolinaâ€™s governor, Nikki Haley, and Senator Tim Scott. â€œI was on stage receiving the endorsement of an Indian American governor from South Carolina, who was endorsing a Cuban American senator from Florida, and I was standing next to the African American Republican senator from South Carolina.â€ â€œThis is the face of the new conservative movement,â€ he told a couple of hundred supporters inside Texas Casino, a resort off the Las Vegas strip. â€œWe are the party of everyone.â€ Cruz, a senator for Texas, headed straight to hammer-shaped Nye County, which is over 90% white. In Pahrump â€“ with 37,000 or so residents, the regionâ€™s population center â€“ he made a play for the stateâ€™s rural conservatives by promising that if was sworn in as president â€œthe persecution of religious liberty ends todayâ€. On a weekend that saw yet another mass shooting, Cruz also pledged to defend the second amendment while boasting of his support from the Gun Owners of America. He further warned, in a state with a sizable Latino population, of the need â€œto finally, finally, finally control the borders and end sanctuary citiesâ€. In South Carolina on Saturday, Rubio inched just ahead of Cruz to clinch second place by less than a percentage point. Both candidates nonetheless paled in comparison with Trump, who scored a second consecutive overwhelming victory after the New Hampshire primary on 9 February. Trump holds a similarly commanding lead in Nevada, with the caucuses less than two days away, although surveying in the state is notoriously unreliable. Trumpâ€™s success has left neither Rubio nor Cruz where they had hoped to be at this stage of the race. Rubio, despite bouncing back somewhat from a poor showing in New Hampshire, has yet to win a primary. And Cruz, despite coming out on top of the Iowa caucuses, now faces questions over whether his evangelicals are as loyal to his campaign as had been expected. However, the maverick senator questions the Republican frontrunnerâ€™s support base. â€œDonald Trump has demonstrated that he has a relatively high floor of support,â€ Cruz said during a brief news conference in the back room of a smoky sports bar on State Route 160. â€œBut heâ€™s also got, I think, a ceiling.â€ â€œFor folks who are concerned that Donald Trump is not the best candidate to go head-to-head with Hillary Clinton, it is becoming clearer and clearer that we are the one campaign that can beat Donald Trump. Indeed, weâ€™re the only campaign that has beaten Donald Trump, in Iowa. And we will continue to go forward and beat him.â€ While he was consistently respectful of his billionaire rival, Cruz dismissed Rubio as an underachiever who had low-balled his prospects throughout the race. Cruz cited in particular an interview of Rubioâ€™s with ABCâ€™s This Week on Sunday, in which host George Stephanopoulos asked the Florida senator which state he thought he could win after losing all three early contests. â€œHe said, â€˜I think we could win Florida, March 15,â€™â€ Cruz recounted. â€œNow thatâ€™s a fairly amazing admission that they donâ€™t believe theyâ€™re gonna win here in Nevada. Apparently they donâ€™t believe theyâ€™re going to win any states on Super Tuesday.â€ â€œTheyâ€™re writing off March 5. Theyâ€™re writing off March 8. And theyâ€™re trying to wait, apparently, until March 15 to finally win a state,â€ Cruz added. â€œAnd I would point out even in Florida, his home state, heâ€™s right now polling in third place, behind both Donald and me.â€ Rubioâ€™s campaign sought to drive home the opposite message: that it was Cruz who had been left bruised after falling short in a state tailor-made for his evangelical appeal. â€œIf Ted Cruz can do no better than third place in a state like South Carolina where 73% of the electorate described themselves as â€˜born-again or evangelical Christianâ€™, where else can he win?â€ Rubioâ€™s campaign manager, Terry Sullivan, wrote in a memo on Sunday. Rubio, for his part, charted a path to victory contingent upon winnowing the field and consolidating support behind his candidacy. With former Florida governor Jeb Bush suspending his campaign after South Carolina, Rubio said during an interview with CNN on Sunday, the dynamic was â€œbeginning to shiftâ€. â€œThat is what gives us an opportunity to coalesce and bring together Republicans who understand that we have to nominate someone who will unify our party, who will reach out to people that havenâ€™t voted for us and grow our party and ultimately who can win.â€ The Florida senator struck upon similar themes while rallying with supporters across three states on Sunday â€“ with stops in Nashville, Tennessee, Little Rock, Arkansas, and finally Las Vegas. Framing himself as the most viable general election candidate, Rubio spoke defiantly of his ability to challenge Democrats Hillary Clinton and Bernie Sanders. â€œIf you nominate me, we will win this election,â€ he said. This article was amended on 22 February 2016 to correct a statement that Marco Rubio was born in Nevada. He was born in Florida, but spent some of his childhood in Nevada. \n",
      "\n"
     ]
    }
   ],
   "source": [
    "for i in range(0, 4):\n",
    "    print(tm_data[i], \"\\n\")"
   ]
  },
  {
   "cell_type": "code",
   "execution_count": 6,
   "metadata": {
    "executionInfo": {
     "elapsed": 2,
     "status": "ok",
     "timestamp": 1665646849235,
     "user": {
      "displayName": "Nemania Borovits",
      "userId": "12051785864540074566"
     },
     "user_tz": -120
    },
    "id": "BuOKbj_eHTt0"
   },
   "outputs": [],
   "source": [
    "def preprocess_data(doc_set):\n",
    "    \"\"\"\n",
    "    Input  : docuemnt list\n",
    "    Purpose: preprocess text (tokenize, removing stopwords, and stemming)\n",
    "    Output : preprocessed text\n",
    "    \"\"\"\n",
    "    # Initialize regex tokenizer\n",
    "    tokenizer = RegexpTokenizer(r\"\\w+\")\n",
    "\n",
    "    # Create English stop words list\n",
    "    en_stop = set(stopwords.words(\"english\"))\n",
    "\n",
    "    # Create p_stemmer of class PorterStemmer\n",
    "    p_stemmer = PorterStemmer()\n",
    "\n",
    "    # List for tokenized documents in loop\n",
    "    texts = []\n",
    "\n",
    "    # Loop through document list\n",
    "    for i in doc_set:\n",
    "        # Clean and tokenize document string\n",
    "        raw = i.lower()    \n",
    "        tokens = tokenizer.tokenize(raw)\n",
    "\n",
    "        # Remove stop words from tokens\n",
    "        stopped_tokens = [i for i in tokens if not i in en_stop]\n",
    "\n",
    "        # Stem tokens\n",
    "        stemmed_tokens = [p_stemmer.stem(i) for i in stopped_tokens]\n",
    "\n",
    "        # Add tokens to list\n",
    "        texts.append(stemmed_tokens)\n",
    "\n",
    "    return texts"
   ]
  },
  {
   "cell_type": "code",
   "execution_count": 7,
   "metadata": {
    "executionInfo": {
     "elapsed": 1,
     "status": "ok",
     "timestamp": 1665646850628,
     "user": {
      "displayName": "Nemania Borovits",
      "userId": "12051785864540074566"
     },
     "user_tz": -120
    },
    "id": "BopQ5JcBJ0Hv"
   },
   "outputs": [],
   "source": [
    "def prepare_corpus(doc_clean):\n",
    "    \"\"\"\n",
    "    Input  : clean document\n",
    "    Purpose: create term dictionary of our courpus and Converting list of documents (corpus) into Document Term Matrix\n",
    "    Output : term dictionary and Document Term Matrix\n",
    "    \"\"\"\n",
    "    # Creating the term dictionary of our courpus, where every unique term is assigned an index. dictionary = corpora.Dictionary(doc_clean)\n",
    "    dictionary = corpora.Dictionary(doc_clean)\n",
    "\n",
    "    # Converting list of documents (corpus) into Document Term Matrix using dictionary prepared above.\n",
    "    doc_term_matrix = [dictionary.doc2bow(doc) for doc in doc_clean]\n",
    "\n",
    "    # Generate LSA model\n",
    "    return dictionary, doc_term_matrix"
   ]
  },
  {
   "cell_type": "code",
   "execution_count": 8,
   "metadata": {
    "executionInfo": {
     "elapsed": 266,
     "status": "ok",
     "timestamp": 1665646851152,
     "user": {
      "displayName": "Nemania Borovits",
      "userId": "12051785864540074566"
     },
     "user_tz": -120
    },
    "id": "Ha0CmhdvVjPT"
   },
   "outputs": [],
   "source": [
    "def create_gensim_lsa_model(doc_clean, number_of_topics,words):\n",
    "    \"\"\"\n",
    "    Input  : clean document, number of topics and number of words associated with each topic\n",
    "    Purpose: create LSA model using gensim\n",
    "    Output : return LSA model\n",
    "    \"\"\"\n",
    "    dictionary,doc_term_matrix=prepare_corpus(doc_clean)\n",
    "\n",
    "    # Generate LSA model\n",
    "    lsamodel = LsiModel(doc_term_matrix, num_topics=number_of_topics, id2word = dictionary)\n",
    "\n",
    "    print(lsamodel.print_topics(num_topics=number_of_topics, num_words=words))\n",
    "\n",
    "    return lsamodel"
   ]
  },
  {
   "cell_type": "code",
   "execution_count": 9,
   "metadata": {
    "executionInfo": {
     "elapsed": 218,
     "status": "ok",
     "timestamp": 1665646853191,
     "user": {
      "displayName": "Nemania Borovits",
      "userId": "12051785864540074566"
     },
     "user_tz": -120
    },
    "id": "YEGf6vWT-efS"
   },
   "outputs": [],
   "source": [
    "def create_gensim_lda_model(doc_clean, number_of_topics,words):\n",
    "    \"\"\"\n",
    "    Input  : clean document, number of topics and number of words associated with each topic\n",
    "    Purpose: create LSA model using gensim\n",
    "    Output : return LSA model\n",
    "    \"\"\"\n",
    "    dictionary,doc_term_matrix=prepare_corpus(doc_clean)\n",
    "\n",
    "    # Generate LDA model\n",
    "    ldamodel = LdaModel(doc_term_matrix, num_topics=number_of_topics, id2word=dictionary, passes=10, update_every=1, chunksize=10, alpha=\"auto\")\n",
    "\n",
    "    print(ldamodel.print_topics(num_topics=number_of_topics, num_words=words))\n",
    "\n",
    "    return ldamodel"
   ]
  },
  {
   "cell_type": "code",
   "execution_count": 10,
   "metadata": {
    "executionInfo": {
     "elapsed": 4,
     "status": "ok",
     "timestamp": 1665646853191,
     "user": {
      "displayName": "Nemania Borovits",
      "userId": "12051785864540074566"
     },
     "user_tz": -120
    },
    "id": "bBjBEsXzVqNn"
   },
   "outputs": [],
   "source": [
    "def compute_coherence_values(dictionary, doc_term_matrix, doc_clean, stop, start=2, step=3, tm=\"lda\"):\n",
    "    \"\"\"\n",
    "    Input   : dictionary : Gensim dictionary\n",
    "              corpus : Gensim corpus\n",
    "              texts : List of input texts\n",
    "              stop : Max num of topics\n",
    "    purpose : Compute c_v coherence for various number of topics\n",
    "    Output  : model_list : List of LSA topic models\n",
    "              coherence_values : Coherence values corresponding to the LDA model with respective number of topics\n",
    "    \"\"\"\n",
    "    coherence_values = []\n",
    "    model_list = []\n",
    "\n",
    "    for topic_num in range(start, stop, step):\n",
    "        if tm == \"lsa\":\n",
    "            model = LsiModel(doc_term_matrix, num_topics=topic_num, id2word=dictionary)\n",
    "        else:\n",
    "            model = LdaModel(doc_term_matrix, num_topics=topic_num, id2word=dictionary, passes=10, update_every=1, chunksize=10, alpha=\"auto\")\n",
    "\n",
    "        model_list.append(model)\n",
    "\n",
    "        coherencemodel = CoherenceModel(model=model, texts=doc_clean, dictionary=dictionary, coherence=\"c_v\")\n",
    "        coherence_values.append(coherencemodel.get_coherence())\n",
    "\n",
    "    return model_list, coherence_values"
   ]
  },
  {
   "cell_type": "code",
   "execution_count": 11,
   "metadata": {
    "executionInfo": {
     "elapsed": 62845,
     "status": "ok",
     "timestamp": 1665646917252,
     "user": {
      "displayName": "Nemania Borovits",
      "userId": "12051785864540074566"
     },
     "user_tz": -120
    },
    "id": "wT0OFpKGWIrJ"
   },
   "outputs": [],
   "source": [
    "clean_text = preprocess_data(tm_data)"
   ]
  },
  {
   "cell_type": "code",
   "execution_count": 12,
   "metadata": {
    "colab": {
     "base_uri": "https://localhost:8080/"
    },
    "executionInfo": {
     "elapsed": 7,
     "status": "ok",
     "timestamp": 1665646917253,
     "user": {
      "displayName": "Nemania Borovits",
      "userId": "12051785864540074566"
     },
     "user_tz": -120
    },
    "id": "uMtTLeikkCMk",
    "outputId": "82ec2e69-6ee0-4259-e0d5-9bded7445962"
   },
   "outputs": [
    {
     "name": "stdout",
     "output_type": "stream",
     "text": [
      "['barclay', 'defianc', 'us', 'fine', 'merit', 'barclay', 'disgrac', 'mani', 'way', 'pre', 'financi', 'crisi', 'boom', 'year', 'tempt', 'think', 'bank', 'ask', 'us', 'depart', 'justic', 'pay', 'larg', 'bill', 'pollut', 'financi', 'system', 'mortgag', 'junk', '2005', '2007', 'cough', 'apologis', 'learn', 'humil', 'view', 'chief', 'execut', 'je', 'staley', 'barclay', 'think', 'dojâ', 'claim', 'â', 'œdisconnect', 'factsâ', 'â', 'œan', 'oblig', 'sharehold', 'custom', 'client', 'employe', 'defend', 'unreason', 'alleg', 'demand', 'â', 'stanc', 'possibl', 'foolhardi', 'sinc', 'go', 'open', 'legal', 'battl', 'power', 'us', 'prosecutor', 'riski', 'especi', 'end', 'lose', 'actual', 'grudg', 'respect', 'staley', 'barclay', 'order', 'us', 'system', 'dish', 'fine', 'errant', 'bank', 'mortgag', 'sin', 'come', 'resembl', 'casino', 'approach', 'prefer', 'settlement', 'behind', 'close', 'door', 'differ', 'size', 'penalti', 'never', 'explain', 'occasion', 'leak', 'negoti', 'demand', 'make', 'methodolog', 'appear', 'even', 'arbitrari', 'deutsch', 'bank', 'initi', 'ask', '14bn', 'â', '11', '5bn', 'reach', 'settlement', '7', '2bn', 'thursday', 'rhyme', 'reason', 'also', 'strong', 'suspicion', 'roulett', 'wheel', 'weight', 'european', 'us', 'bank', 'form', 'jp', 'morgan', 'goldman', 'sach', 'morgan', 'stanley', 'bank', 'america', 'citi', 'front', 'queue', 'settlement', 'obviou', 'reason', 'barclay', 'creat', 'distribut', 'far', 'fewer', 'toxic', 'mortgag', 'secur', 'us', 'rival', 'bank', 'argu', 'shouldnâ', 'fine', 'proportion', 'smaller', 'neither', 'barclay', 'doj', 'talk', 'hard', 'number', 'barclay', 'said', 'ask', '4bn', 'versu', 'analysi', 'fair', 'sum', 'would', '1bn', '2bn', 'could', 'swallow', 'sake', 'certainti', 'gap', 'wide', 'barclay', 'entitl', 'take', 'chanc', 'court', 'â', 'ye', 'probabl', 'oblig', 'board', 'canâ', 'let', '2bn', 'slip', 'door', 'sake', 'quiet', 'life', 'case', 'messi', 'inevit', 'barclaysâ', 'practic', 'â', 'œplainli', 'irrespons', 'dishonest', 'â', 'accord', 'loretta', 'lynch', 'us', 'attorney', 'gener', 'also', 'cach', 'ugli', 'email', 'document', 'doj', 'lawsuit', 'say', 'barclay', 'employe', 'call', 'one', 'parcel', 'securitis', 'loan', 'â', 'œcraptacularâ', 'anoth', 'said', 'â', 'œlook', 'like', 'shitâ', 'howev', 'almost', 'par', 'cours', 'case', 'central', 'question', 'right', 'size', 'penalti', 'barclay', 'think', 'singl', 'unduli', 'harsh', 'treatment', 'bank', 'tri', 'prove', 'case', 'staley', 'look', 'like', 'fool', 'fail', 'willing', 'reject', 'easi', 'option', 'settl', 'entir', 'legitim']\n"
     ]
    }
   ],
   "source": [
    "print(clean_text[0])"
   ]
  },
  {
   "cell_type": "markdown",
   "metadata": {
    "id": "gm4eK5p_gsv5"
   },
   "source": [
    "<h2>Results LSA</h2>"
   ]
  },
  {
   "cell_type": "code",
   "execution_count": 13,
   "metadata": {
    "colab": {
     "base_uri": "https://localhost:8080/",
     "height": 279
    },
    "executionInfo": {
     "elapsed": 550187,
     "status": "ok",
     "timestamp": 1665647467436,
     "user": {
      "displayName": "Nemania Borovits",
      "userId": "12051785864540074566"
     },
     "user_tz": -120
    },
    "id": "iTUqsNi8V1si",
    "outputId": "d811dc2e-6d51-4cb6-8db1-14d434a26754"
   },
   "outputs": [
    {
     "data": {
      "image/png": "[encoded data removed]",
      "text/plain": [
       "<Figure size 640x480 with 1 Axes>"
      ]
     },
     "metadata": {},
     "output_type": "display_data"
    }
   ],
   "source": [
    "def plot_graph(doc_clean, start, stop, step, t_m=\"lda\"):\n",
    "    dictionary,doc_term_matrix = prepare_corpus(clean_text)\n",
    "    model_list, coherence_values = compute_coherence_values(dictionary, doc_term_matrix, doc_clean, stop, start, step, tm=t_m)\n",
    "\n",
    "    # Show graph\n",
    "    x = range(start, stop, step)\n",
    "    plt.plot(x, coherence_values)\n",
    "    plt.xlabel(\"Number of Topics\")\n",
    "    plt.ylabel(\"Coherence score\")\n",
    "    plt.legend((\"coherence_values\"), loc=\"best\")\n",
    "    plt.show()\n",
    "\n",
    "start, stop, step = 2, 12, 1\n",
    "plot_graph(clean_text, start, stop, step, t_m=\"lsa\")"
   ]
  },
  {
   "cell_type": "code",
   "execution_count": 14,
   "metadata": {
    "colab": {
     "base_uri": "https://localhost:8080/"
    },
    "executionInfo": {
     "elapsed": 7221,
     "status": "ok",
     "timestamp": 1665604138166,
     "user": {
      "displayName": "Nemania Borovits",
      "userId": "12051785864540074566"
     },
     "user_tz": -120
    },
    "id": "Flx4_BqbgV6u",
    "outputId": "6d941f06-1718-4b17-cdca-8c64351621f7"
   },
   "outputs": [
    {
     "name": "stdout",
     "output_type": "stream",
     "text": [
      "[(0, '0.869*\"â\" + 0.155*\"trump\" + 0.136*\"say\" + 0.118*\"said\" + 0.075*\"would\" + 0.071*\"peopl\" + 0.070*\"clinton\" + 0.070*\"one\" + 0.059*\"year\" + 0.059*\"campaign\"'), (1, '-0.389*\"citi\" + -0.372*\"v\" + -0.358*\"2016\" + -0.358*\"h\" + -0.356*\"2017\" + -0.165*\"unit\" + -0.160*\"west\" + -0.157*\"manchest\" + -0.116*\"apr\" + -0.112*\"dec\"'), (2, '-0.330*\"eu\" + 0.307*\"trump\" + -0.244*\"say\" + 0.222*\"â\" + -0.215*\"would\" + -0.173*\"leav\" + -0.147*\"uk\" + 0.136*\"clinton\" + -0.134*\"said\" + -0.132*\"vote\"'), (3, '-0.454*\"trump\" + 0.276*\"min\" + -0.202*\"clinton\" + 0.201*\"â\" + -0.181*\"said\" + -0.175*\"campaign\" + -0.172*\"eu\" + -0.139*\"vote\" + -0.132*\"say\" + 0.124*\"goal\"')]\n",
      "Topic  0 : ['â', 'trump', 'say', 'said', 'would', 'peopl', 'clinton', 'one', 'year', 'campaign']\n",
      "Topic  1 : ['citi', 'v', '2016', 'h', '2017', 'unit', 'west', 'manchest', 'apr', 'dec']\n",
      "Topic  2 : ['eu', 'trump', 'say', 'â', 'would', 'leav', 'uk', 'clinton', 'said', 'vote']\n",
      "Topic  3 : ['trump', 'min', 'clinton', 'â', 'said', 'campaign', 'eu', 'vote', 'say', 'goal']\n"
     ]
    }
   ],
   "source": [
    "# LSA Model\n",
    "words = 10\n",
    "new_number_of_topics = 4\n",
    "\n",
    "model = create_gensim_lsa_model(clean_text, new_number_of_topics, words)\n",
    "topic_words = model.print_topics(num_topics=new_number_of_topics, num_words=words)\n",
    "\n",
    "for i, topic in enumerate(topic_words):\n",
    "    print(\"Topic \", i, \":\", re.findall(r'\"(.*?)\"', topic[1]))"
   ]
  },
  {
   "cell_type": "markdown",
   "metadata": {
    "id": "NvF-QPI1g1hc"
   },
   "source": [
    "<h2>Results LDA</h2>"
   ]
  },
  {
   "cell_type": "code",
   "execution_count": 15,
   "metadata": {
    "colab": {
     "base_uri": "https://localhost:8080/",
     "height": 1000
    },
    "executionInfo": {
     "elapsed": 76054,
     "status": "ok",
     "timestamp": 1665648297307,
     "user": {
      "displayName": "Nemania Borovits",
      "userId": "12051785864540074566"
     },
     "user_tz": -120
    },
    "id": "GLK1KLLzwO_u",
    "outputId": "e565f0c2-a433-41b5-e5df-e0d3f01af88e"
   },
   "outputs": [
    {
     "data": {
      "image/png": "[encoded data removed]",
      "text/plain": [
       "<Figure size 640x480 with 1 Axes>"
      ]
     },
     "metadata": {},
     "output_type": "display_data"
    }
   ],
   "source": [
    "clean_text = preprocess_data(tm_data[:500])\n",
    "\n",
    "start, stop, step = 2, 6, 1\n",
    "plot_graph(clean_text, start, stop, step, t_m=\"lda\")"
   ]
  },
  {
   "cell_type": "code",
   "execution_count": 16,
   "metadata": {
    "colab": {
     "base_uri": "https://localhost:8080/"
    },
    "executionInfo": {
     "elapsed": 16279,
     "status": "ok",
     "timestamp": 1665648346578,
     "user": {
      "displayName": "Nemania Borovits",
      "userId": "12051785864540074566"
     },
     "user_tz": -120
    },
    "id": "NGyG2KJSHJbN",
    "outputId": "6a386e3e-0220-406c-9694-6b2ac799717a"
   },
   "outputs": [
    {
     "name": "stdout",
     "output_type": "stream",
     "text": [
      "[(0, '0.073*\"â\" + 0.008*\"one\" + 0.008*\"like\" + 0.008*\"itâ\" + 0.007*\"say\" + 0.007*\"go\" + 0.007*\"would\" + 0.007*\"time\" + 0.006*\"get\" + 0.006*\"think\"'), (1, '0.045*\"trump\" + 0.017*\"â\" + 0.016*\"clinton\" + 0.015*\"said\" + 0.014*\"campaign\" + 0.012*\"trumpâ\" + 0.012*\"elect\" + 0.012*\"donald\" + 0.011*\"state\" + 0.011*\"presid\"'), (2, '0.018*\"film\" + 0.007*\"music\" + 0.007*\"play\" + 0.006*\"star\" + 0.006*\"movi\" + 0.005*\"song\" + 0.004*\"album\" + 0.004*\"war\" + 0.004*\"stori\" + 0.004*\"charact\"'), (3, '0.023*\"min\" + 0.011*\"leagu\" + 0.010*\"game\" + 0.010*\"villa\" + 0.010*\"season\" + 0.009*\"player\" + 0.009*\"goal\" + 0.008*\"team\" + 0.008*\"everton\" + 0.006*\"win\"'), (4, '0.033*\"â\" + 0.011*\"said\" + 0.007*\"bank\" + 0.006*\"year\" + 0.006*\"would\" + 0.005*\"eu\" + 0.004*\"govern\" + 0.004*\"also\" + 0.004*\"could\" + 0.004*\"uk\"')]\n",
      "Topic  0 : ['â', 'one', 'like', 'itâ', 'say', 'go', 'would', 'time', 'get', 'think']\n",
      "Topic  1 : ['trump', 'â', 'clinton', 'said', 'campaign', 'trumpâ', 'elect', 'donald', 'state', 'presid']\n",
      "Topic  2 : ['film', 'music', 'play', 'star', 'movi', 'song', 'album', 'war', 'stori', 'charact']\n",
      "Topic  3 : ['min', 'leagu', 'game', 'villa', 'season', 'player', 'goal', 'team', 'everton', 'win']\n",
      "Topic  4 : ['â', 'said', 'bank', 'year', 'would', 'eu', 'govern', 'also', 'could', 'uk']\n"
     ]
    }
   ],
   "source": [
    "# LDA Model\n",
    "words = 10\n",
    "new_number_of_topics = 5\n",
    "\n",
    "model = create_gensim_lda_model(clean_text, new_number_of_topics,words)\n",
    "topic_words = model.print_topics(num_topics=new_number_of_topics, num_words=words)\n",
    "\n",
    "for i, topic in enumerate(topic_words):\n",
    "    print(\"Topic \", i, \":\", re.findall(r'\"(.*?)\"', topic[1]))"
   ]
  },
  {
   "cell_type": "markdown",
   "metadata": {
    "id": "5pLjXNV9wr1L"
   },
   "source": [
    "<h2>The most dominant topic and its percentage contribution in each document</h2>"
   ]
  },
  {
   "cell_type": "code",
   "execution_count": 17,
   "metadata": {
    "id": "QB6eV6OUowdS"
   },
   "outputs": [],
   "source": [
    "def format_topics_sentences(ldamodel, cleaned_text):\n",
    "    \"\"\"\n",
    "    Input   : ldamodel : Gensim generated LDA model\n",
    "            cleaned_text : preprocessed text\n",
    "    purpose : Find the most dominant topic in each document and its percentage contribution\n",
    "    Output  : Dataframe displaying the  most dominant topic in each document and its percentage contribution\n",
    "    \"\"\"\n",
    "    dictionary, docterm_matrix = prepare_corpus(cleaned_text)\n",
    "    sent_topics_df = pd.DataFrame()\n",
    "\n",
    "    # Get main topic in each document\n",
    "    for i, row_list in enumerate(ldamodel[docterm_matrix]):\n",
    "        row = row_list[0] if ldamodel.per_word_topics else row_list            \n",
    "        row = sorted(row, key=lambda x: (x[1]), reverse=True)\n",
    "\n",
    "        # Get the Dominant topic, Perc Contribution and Keywords for each document\n",
    "        for j, (topic_num, prop_topic) in enumerate(row):\n",
    "            if j == 0: # => dominant topic\n",
    "                wp = ldamodel.show_topic(topic_num)\n",
    "                topic_keywords = \", \".join([word for word, prop in wp])\n",
    "                sent_topics_df = sent_topics_df.append(pd.Series([int(topic_num), round(prop_topic, 4), topic_keywords]), ignore_index=True)\n",
    "            else:\n",
    "                break\n",
    "\n",
    "    sent_topics_df.columns = [\"Dominant_Topic\", \"Perc_Contribution\", \"Topic_Keywords\"]\n",
    "\n",
    "    # Add original text to the end of the output\n",
    "    contents = pd.Series(cleaned_text)\n",
    "    sent_topics_df = pd.concat([sent_topics_df, contents], axis=1)\n",
    "\n",
    "    return(sent_topics_df)"
   ]
  },
  {
   "cell_type": "code",
   "execution_count": 18,
   "metadata": {
    "colab": {
     "base_uri": "https://localhost:8080/",
     "height": 363
    },
    "executionInfo": {
     "elapsed": 2147,
     "status": "ok",
     "timestamp": 1665604330160,
     "user": {
      "displayName": "Nemania Borovits",
      "userId": "12051785864540074566"
     },
     "user_tz": -120
    },
    "id": "LwTBCCyFxnmG",
    "outputId": "38d55a16-bb16-4828-8f62-93f25233b416"
   },
   "outputs": [
    {
     "name": "stderr",
     "output_type": "stream",
     "text": [
      "/tmp/ipykernel_478002/2541561439.py:21: FutureWarning: The frame.append method is deprecated and will be removed from pandas in a future version. Use pandas.concat instead.\n",
      "  sent_topics_df = sent_topics_df.append(pd.Series([int(topic_num), round(prop_topic, 4), topic_keywords]), ignore_index=True)\n"
     ]
    },
    {
     "data": {
      "text/html": [
       "<div>\n",
       "<style scoped>\n",
       "    .dataframe tbody tr th:only-of-type {\n",
       "        vertical-align: middle;\n",
       "    }\n",
       "\n",
       "    .dataframe tbody tr th {\n",
       "        vertical-align: top;\n",
       "    }\n",
       "\n",
       "    .dataframe thead th {\n",
       "        text-align: right;\n",
       "    }\n",
       "</style>\n",
       "<table border=\"1\" class=\"dataframe\">\n",
       "  <thead>\n",
       "    <tr style=\"text-align: right;\">\n",
       "      <th></th>\n",
       "      <th>Document_No</th>\n",
       "      <th>Dominant_Topic</th>\n",
       "      <th>Topic_Perc_Contrib</th>\n",
       "      <th>Keywords</th>\n",
       "      <th>Text</th>\n",
       "    </tr>\n",
       "  </thead>\n",
       "  <tbody>\n",
       "    <tr>\n",
       "      <th>0</th>\n",
       "      <td>0</td>\n",
       "      <td>4</td>\n",
       "      <td>0.7117</td>\n",
       "      <td>â, said, bank, year, would, eu, govern, also, ...</td>\n",
       "      <td>[barclay, defianc, us, fine, merit, barclay, d...</td>\n",
       "    </tr>\n",
       "    <tr>\n",
       "      <th>1</th>\n",
       "      <td>1</td>\n",
       "      <td>4</td>\n",
       "      <td>0.3782</td>\n",
       "      <td>â, said, bank, year, would, eu, govern, also, ...</td>\n",
       "      <td>[big, hillari, clinton, lead, presidenti, race...</td>\n",
       "    </tr>\n",
       "    <tr>\n",
       "      <th>2</th>\n",
       "      <td>2</td>\n",
       "      <td>4</td>\n",
       "      <td>0.4375</td>\n",
       "      <td>â, said, bank, year, would, eu, govern, also, ...</td>\n",
       "      <td>[zikaâ, greatest, alli, human, intransig, reve...</td>\n",
       "    </tr>\n",
       "    <tr>\n",
       "      <th>3</th>\n",
       "      <td>3</td>\n",
       "      <td>1</td>\n",
       "      <td>0.4074</td>\n",
       "      <td>trump, â, clinton, said, campaign, trumpâ, ele...</td>\n",
       "      <td>[fight, right, cruz, rubio, spar, nevada, trum...</td>\n",
       "    </tr>\n",
       "    <tr>\n",
       "      <th>4</th>\n",
       "      <td>4</td>\n",
       "      <td>4</td>\n",
       "      <td>0.3497</td>\n",
       "      <td>â, said, bank, year, would, eu, govern, also, ...</td>\n",
       "      <td>[vote, day, america, final, goe, poll, candid,...</td>\n",
       "    </tr>\n",
       "    <tr>\n",
       "      <th>5</th>\n",
       "      <td>5</td>\n",
       "      <td>4</td>\n",
       "      <td>0.4975</td>\n",
       "      <td>â, said, bank, year, would, eu, govern, also, ...</td>\n",
       "      <td>[twitter, u, turn, ban, white, nationalist, tw...</td>\n",
       "    </tr>\n",
       "    <tr>\n",
       "      <th>6</th>\n",
       "      <td>6</td>\n",
       "      <td>0</td>\n",
       "      <td>0.4949</td>\n",
       "      <td>â, one, like, itâ, say, go, would, time, get, ...</td>\n",
       "      <td>[ariana, grand, donut, lick, cost, gig, white,...</td>\n",
       "    </tr>\n",
       "    <tr>\n",
       "      <th>7</th>\n",
       "      <td>7</td>\n",
       "      <td>0</td>\n",
       "      <td>0.5172</td>\n",
       "      <td>â, one, like, itâ, say, go, would, time, get, ...</td>\n",
       "      <td>[never, mind, john, lewi, â, tv, advert, music...</td>\n",
       "    </tr>\n",
       "    <tr>\n",
       "      <th>8</th>\n",
       "      <td>8</td>\n",
       "      <td>4</td>\n",
       "      <td>0.6632</td>\n",
       "      <td>â, said, bank, year, would, eu, govern, also, ...</td>\n",
       "      <td>[innov, fund, aim, save, women, newborn, babi,...</td>\n",
       "    </tr>\n",
       "    <tr>\n",
       "      <th>9</th>\n",
       "      <td>9</td>\n",
       "      <td>4</td>\n",
       "      <td>0.8764</td>\n",
       "      <td>â, said, bank, year, would, eu, govern, also, ...</td>\n",
       "      <td>[polic, search, santand, madrid, hq, money, la...</td>\n",
       "    </tr>\n",
       "  </tbody>\n",
       "</table>\n",
       "</div>"
      ],
      "text/plain": [
       "   Document_No  Dominant_Topic  Topic_Perc_Contrib  \\\n",
       "0            0               4              0.7117   \n",
       "1            1               4              0.3782   \n",
       "2            2               4              0.4375   \n",
       "3            3               1              0.4074   \n",
       "4            4               4              0.3497   \n",
       "5            5               4              0.4975   \n",
       "6            6               0              0.4949   \n",
       "7            7               0              0.5172   \n",
       "8            8               4              0.6632   \n",
       "9            9               4              0.8764   \n",
       "\n",
       "                                            Keywords  \\\n",
       "0  â, said, bank, year, would, eu, govern, also, ...   \n",
       "1  â, said, bank, year, would, eu, govern, also, ...   \n",
       "2  â, said, bank, year, would, eu, govern, also, ...   \n",
       "3  trump, â, clinton, said, campaign, trumpâ, ele...   \n",
       "4  â, said, bank, year, would, eu, govern, also, ...   \n",
       "5  â, said, bank, year, would, eu, govern, also, ...   \n",
       "6  â, one, like, itâ, say, go, would, time, get, ...   \n",
       "7  â, one, like, itâ, say, go, would, time, get, ...   \n",
       "8  â, said, bank, year, would, eu, govern, also, ...   \n",
       "9  â, said, bank, year, would, eu, govern, also, ...   \n",
       "\n",
       "                                                Text  \n",
       "0  [barclay, defianc, us, fine, merit, barclay, d...  \n",
       "1  [big, hillari, clinton, lead, presidenti, race...  \n",
       "2  [zikaâ, greatest, alli, human, intransig, reve...  \n",
       "3  [fight, right, cruz, rubio, spar, nevada, trum...  \n",
       "4  [vote, day, america, final, goe, poll, candid,...  \n",
       "5  [twitter, u, turn, ban, white, nationalist, tw...  \n",
       "6  [ariana, grand, donut, lick, cost, gig, white,...  \n",
       "7  [never, mind, john, lewi, â, tv, advert, music...  \n",
       "8  [innov, fund, aim, save, women, newborn, babi,...  \n",
       "9  [polic, search, santand, madrid, hq, money, la...  "
      ]
     },
     "execution_count": 18,
     "metadata": {},
     "output_type": "execute_result"
    }
   ],
   "source": [
    "df_topic_sents_keywords = format_topics_sentences(model, clean_text)\n",
    "\n",
    "# Format\n",
    "df_dominant_topic = df_topic_sents_keywords.reset_index()\n",
    "df_dominant_topic.columns = [\"Document_No\", \"Dominant_Topic\", \"Topic_Perc_Contrib\", \"Keywords\", \"Text\"]\n",
    "df_dominant_topic.head(10)"
   ]
  },
  {
   "cell_type": "markdown",
   "metadata": {
    "id": "LFSdI2Kyyqdz"
   },
   "source": [
    "<h2>The most representative sentence for each topic</h2>"
   ]
  },
  {
   "cell_type": "code",
   "execution_count": 19,
   "metadata": {
    "id": "oKqPJqIOyu4d"
   },
   "outputs": [],
   "source": [
    "pd.options.display.max_colwidth = 100\n",
    "\n",
    "def most_repr_sent_tp(document_dom_topic_df):\n",
    "    \"\"\"\n",
    "    Input   : ldamodel : Dataframe containing the most dominant topic and its contribution per document\n",
    "    purpose : Find the most representative sentence for each topic\n",
    "    Output  : Dataframe displaying the most representative sentence for each topic\n",
    "    \"\"\"\n",
    "    sent_topics_sorted_df = pd.DataFrame()\n",
    "\n",
    "    grouped_document_dom_topic_df = document_dom_topic_df.groupby(\"Dominant_Topic\")\n",
    "\n",
    "    for i, grp in grouped_document_dom_topic_df:\n",
    "        sent_topics_sorted_df = pd.concat([sent_topics_sorted_df, grp.sort_values([\"Perc_Contribution\"], ascending=False).head(1)], axis=0)\n",
    "\n",
    "    sent_topics_sorted_df.reset_index(drop=True, inplace=True)\n",
    "\n",
    "    sent_topics_sorted_df.columns = [\"Topic_Num\", \"Topic_Perc_Contrib\", \"Keywords\", \"Representative Text\"]\n",
    "\n",
    "    return sent_topics_sorted_df"
   ]
  },
  {
   "cell_type": "code",
   "execution_count": 20,
   "metadata": {
    "colab": {
     "base_uri": "https://localhost:8080/",
     "height": 206
    },
    "executionInfo": {
     "elapsed": 258,
     "status": "ok",
     "timestamp": 1665604336263,
     "user": {
      "displayName": "Nemania Borovits",
      "userId": "12051785864540074566"
     },
     "user_tz": -120
    },
    "id": "Gl6_9i018Q1d",
    "outputId": "4cfedb5d-cba9-4c4d-ee93-f3bddde6d779"
   },
   "outputs": [
    {
     "data": {
      "text/html": [
       "<div>\n",
       "<style scoped>\n",
       "    .dataframe tbody tr th:only-of-type {\n",
       "        vertical-align: middle;\n",
       "    }\n",
       "\n",
       "    .dataframe tbody tr th {\n",
       "        vertical-align: top;\n",
       "    }\n",
       "\n",
       "    .dataframe thead th {\n",
       "        text-align: right;\n",
       "    }\n",
       "</style>\n",
       "<table border=\"1\" class=\"dataframe\">\n",
       "  <thead>\n",
       "    <tr style=\"text-align: right;\">\n",
       "      <th></th>\n",
       "      <th>Topic_Num</th>\n",
       "      <th>Topic_Perc_Contrib</th>\n",
       "      <th>Keywords</th>\n",
       "      <th>Representative Text</th>\n",
       "    </tr>\n",
       "  </thead>\n",
       "  <tbody>\n",
       "    <tr>\n",
       "      <th>0</th>\n",
       "      <td>0</td>\n",
       "      <td>0.7964</td>\n",
       "      <td>â, one, like, itâ, say, go, would, time, get, think</td>\n",
       "      <td>[itâ, twitterâ, 10th, birthday, love, hate, abi, wilkinson, â, twitter, allow, us, break, seem, ...</td>\n",
       "    </tr>\n",
       "    <tr>\n",
       "      <th>1</th>\n",
       "      <td>1</td>\n",
       "      <td>0.5173</td>\n",
       "      <td>trump, â, clinton, said, campaign, trumpâ, elect, donald, state, presid</td>\n",
       "      <td>[democrat, seek, injunct, trump, alli, voter, intimid, concern, democrat, parti, offici, four, s...</td>\n",
       "    </tr>\n",
       "    <tr>\n",
       "      <th>2</th>\n",
       "      <td>2</td>\n",
       "      <td>0.6580</td>\n",
       "      <td>film, music, play, star, movi, song, album, war, stori, charact</td>\n",
       "      <td>[ryan, gosl, emma, stone, music, la, la, land, open, venic, film, festiv, whiplash, director, da...</td>\n",
       "    </tr>\n",
       "    <tr>\n",
       "      <th>3</th>\n",
       "      <td>3</td>\n",
       "      <td>0.7197</td>\n",
       "      <td>min, leagu, game, villa, season, player, goal, team, everton, win</td>\n",
       "      <td>[manchest, unit, v, tottenham, hotspur, match, preview, mood, manchest, unit, one, frustrat, mix...</td>\n",
       "    </tr>\n",
       "    <tr>\n",
       "      <th>4</th>\n",
       "      <td>4</td>\n",
       "      <td>0.9768</td>\n",
       "      <td>â, said, bank, year, would, eu, govern, also, could, uk</td>\n",
       "      <td>[uk, asset, resolut, deal, trigger, bonus, 2, 000, employe, deal, outsourc, mortgag, process, go...</td>\n",
       "    </tr>\n",
       "  </tbody>\n",
       "</table>\n",
       "</div>"
      ],
      "text/plain": [
       "   Topic_Num  Topic_Perc_Contrib  \\\n",
       "0          0              0.7964   \n",
       "1          1              0.5173   \n",
       "2          2              0.6580   \n",
       "3          3              0.7197   \n",
       "4          4              0.9768   \n",
       "\n",
       "                                                                  Keywords  \\\n",
       "0                      â, one, like, itâ, say, go, would, time, get, think   \n",
       "1  trump, â, clinton, said, campaign, trumpâ, elect, donald, state, presid   \n",
       "2          film, music, play, star, movi, song, album, war, stori, charact   \n",
       "3        min, leagu, game, villa, season, player, goal, team, everton, win   \n",
       "4                  â, said, bank, year, would, eu, govern, also, could, uk   \n",
       "\n",
       "                                                                                   Representative Text  \n",
       "0  [itâ, twitterâ, 10th, birthday, love, hate, abi, wilkinson, â, twitter, allow, us, break, seem, ...  \n",
       "1  [democrat, seek, injunct, trump, alli, voter, intimid, concern, democrat, parti, offici, four, s...  \n",
       "2  [ryan, gosl, emma, stone, music, la, la, land, open, venic, film, festiv, whiplash, director, da...  \n",
       "3  [manchest, unit, v, tottenham, hotspur, match, preview, mood, manchest, unit, one, frustrat, mix...  \n",
       "4  [uk, asset, resolut, deal, trigger, bonus, 2, 000, employe, deal, outsourc, mortgag, process, go...  "
      ]
     },
     "execution_count": 20,
     "metadata": {},
     "output_type": "execute_result"
    }
   ],
   "source": [
    "most_repr_sent_tp(df_topic_sents_keywords)"
   ]
  },
  {
   "cell_type": "markdown",
   "metadata": {
    "id": "-2HMCZm8w2kJ"
   },
   "source": [
    "<h2>Visualize topics using pyLDAvis</h2>"
   ]
  },
  {
   "cell_type": "code",
   "execution_count": 21,
   "metadata": {
    "id": "YWrIbngXhiiF"
   },
   "outputs": [],
   "source": [
    "# def viz_topics(cleaned_text, topics, words=1000):\n",
    "#     dictionary, docterm_matrix = prepare_corpus(cleaned_text)\n",
    "\n",
    "#     model = create_gensim_lda_model(cleaned_text, topics, 10)\n",
    "\n",
    "#     vis = gensimvis.prepare(model, docterm_matrix, dictionary)\n",
    "\n",
    "#     return vis"
   ]
  },
  {
   "cell_type": "code",
   "execution_count": 22,
   "metadata": {
    "colab": {
     "base_uri": "https://localhost:8080/"
    },
    "executionInfo": {
     "elapsed": 11598,
     "status": "ok",
     "timestamp": 1665604353361,
     "user": {
      "displayName": "Nemania Borovits",
      "userId": "12051785864540074566"
     },
     "user_tz": -120
    },
    "id": "ksBYi9GDkbB4",
    "outputId": "ca4fe1d1-667a-41a7-baf1-50b0a1f72952"
   },
   "outputs": [],
   "source": [
    "# vizualization = viz_topics(clean_text, 4)"
   ]
  },
  {
   "cell_type": "code",
   "execution_count": 23,
   "metadata": {
    "colab": {
     "base_uri": "https://localhost:8080/",
     "height": 862
    },
    "executionInfo": {
     "elapsed": 272,
     "status": "ok",
     "timestamp": 1665604355272,
     "user": {
      "displayName": "Nemania Borovits",
      "userId": "12051785864540074566"
     },
     "user_tz": -120
    },
    "id": "2GfnB3v3ndBX",
    "outputId": "0a9cac86-c87a-469f-9de8-2a496f5fee87"
   },
   "outputs": [],
   "source": [
    "# pyLDAvis.display(vizualization)"
   ]
  },
  {
   "cell_type": "markdown",
   "metadata": {
    "id": "ZJVg9c7RoXu_"
   },
   "source": [
    "## FuzzyTM"
   ]
  },
  {
   "cell_type": "code",
   "execution_count": 24,
   "metadata": {
    "colab": {
     "base_uri": "https://localhost:8080/"
    },
    "executionInfo": {
     "elapsed": 10892,
     "status": "ok",
     "timestamp": 1665649435937,
     "user": {
      "displayName": "Nemania Borovits",
      "userId": "12051785864540074566"
     },
     "user_tz": -120
    },
    "id": "Q8cluMnQSrYU",
    "outputId": "db5fe3d4-3318-46b6-daf5-df905f061c86"
   },
   "outputs": [
    {
     "name": "stdout",
     "output_type": "stream",
     "text": [
      "[['never', 'servic', 'power', 'director', 'financi', 'secur', 'system', 'repres', 'risk', 'complet'], ['guardian', 'swift', 'supermarket', '7m', 'lineup', 'olymp', 'menâ', 'specialis', 'guitarist', 'neglect'], ['effect', '50', 'limit', 'focu', 'manag', 'drive', '17', 'scale', '8', '2010'], ['organis', 'treat', 'eye', 'troubl', 'imag', 'twitter', 'opinion', 'fulli', 'none', 'daughter'], ['alreadi', 'appear', 'well', 'recent', 'run', 'think', 'like', 'thing', 'larg', 'sever'], ['artist', '2011', 'attitud', 'comedi', 'band', 'technolog', 'collabor', 'album', 'pop', 'fashion'], ['cut', 'govern', 'increas', 'deliv', 'invest', 'chang', 'econom', 'credit', 'rise', 'spend'], ['profession', 'qualiti', 'previou', 'player', 'quickli', 'star', 'heart', 'equal', 'maintain', 'imagin'], ['michael', 'pleas', 'newspap', 'stronger', 'nicola', 'round', 'fascin', 'split', 'polic', 'pro'], ['count', 'nigel', 'bet', 'poll', 'vote', 'remain', 'rain', 'flood', 'briton', 'farag']]\n"
     ]
    }
   ],
   "source": [
    "# Initialize model\n",
    "flsaW = FLSA_W(\n",
    "    input_file=clean_text,\n",
    "    num_topics=10,\n",
    "    num_words=10,\n",
    "    word_weighting=\"normal\",\n",
    "    cluster_method=\"fcm\",\n",
    ")\n",
    "\n",
    "# Train topic model and obtain to matrices\n",
    "pwgt, ptgd = flsaW.get_matrices()\n",
    "\n",
    "# Get topics\n",
    "topics = flsaW.show_topics(representation=\"words\")\n",
    "\n",
    "print(topics)"
   ]
  },
  {
   "cell_type": "code",
   "execution_count": 25,
   "metadata": {
    "colab": {
     "base_uri": "https://localhost:8080/"
    },
    "executionInfo": {
     "elapsed": 15,
     "status": "ok",
     "timestamp": 1665649435937,
     "user": {
      "displayName": "Nemania Borovits",
      "userId": "12051785864540074566"
     },
     "user_tz": -120
    },
    "id": "781LoyJVwooO",
    "outputId": "b0d16b86-cd8c-4bf9-b107-84b34ab5c279"
   },
   "outputs": [
    {
     "name": "stdout",
     "output_type": "stream",
     "text": [
      "Topic  0 : ['never', 'servic', 'power', 'director', 'financi', 'secur', 'system', 'repres', 'risk', 'complet']\n",
      "Topic  1 : ['guardian', 'swift', 'supermarket', '7m', 'lineup', 'olymp', 'menâ', 'specialis', 'guitarist', 'neglect']\n",
      "Topic  2 : ['effect', '50', 'limit', 'focu', 'manag', 'drive', '17', 'scale', '8', '2010']\n",
      "Topic  3 : ['organis', 'treat', 'eye', 'troubl', 'imag', 'twitter', 'opinion', 'fulli', 'none', 'daughter']\n",
      "Topic  4 : ['alreadi', 'appear', 'well', 'recent', 'run', 'think', 'like', 'thing', 'larg', 'sever']\n",
      "Topic  5 : ['artist', '2011', 'attitud', 'comedi', 'band', 'technolog', 'collabor', 'album', 'pop', 'fashion']\n",
      "Topic  6 : ['cut', 'govern', 'increas', 'deliv', 'invest', 'chang', 'econom', 'credit', 'rise', 'spend']\n",
      "Topic  7 : ['profession', 'qualiti', 'previou', 'player', 'quickli', 'star', 'heart', 'equal', 'maintain', 'imagin']\n",
      "Topic  8 : ['michael', 'pleas', 'newspap', 'stronger', 'nicola', 'round', 'fascin', 'split', 'polic', 'pro']\n",
      "Topic  9 : ['count', 'nigel', 'bet', 'poll', 'vote', 'remain', 'rain', 'flood', 'briton', 'farag']\n"
     ]
    }
   ],
   "source": [
    "for id, tp in enumerate(topics):\n",
    "    print(\"Topic \" , id, \":\", tp)"
   ]
  },
  {
   "cell_type": "markdown",
   "metadata": {
    "id": "ogojgQGgobVs"
   },
   "source": [
    "## Evaluation"
   ]
  },
  {
   "cell_type": "code",
   "execution_count": 26,
   "metadata": {
    "colab": {
     "base_uri": "https://localhost:8080/"
    },
    "executionInfo": {
     "elapsed": 4891,
     "status": "ok",
     "timestamp": 1665649468252,
     "user": {
      "displayName": "Nemania Borovits",
      "userId": "12051785864540074566"
     },
     "user_tz": -120
    },
    "id": "g5eMYJNPoa2Y",
    "outputId": "2a6b344c-2ba6-44cc-8e1c-8a4f6d8a575f"
   },
   "outputs": [
    {
     "name": "stdout",
     "output_type": "stream",
     "text": [
      "[['never', 'servic', 'power', 'director', 'financi', 'secur', 'system', 'repres', 'risk', 'complet'], ['guardian', 'swift', 'supermarket', '7m', 'lineup', 'olymp', 'menâ', 'specialis', 'guitarist', 'neglect'], ['effect', '50', 'limit', 'focu', 'manag', 'drive', '17', 'scale', '8', '2010'], ['organis', 'treat', 'eye', 'troubl', 'imag', 'twitter', 'opinion', 'fulli', 'none', 'daughter'], ['alreadi', 'appear', 'well', 'recent', 'run', 'think', 'like', 'thing', 'larg', 'sever'], ['artist', '2011', 'attitud', 'comedi', 'band', 'technolog', 'collabor', 'album', 'pop', 'fashion'], ['cut', 'govern', 'increas', 'deliv', 'invest', 'chang', 'econom', 'credit', 'rise', 'spend'], ['profession', 'qualiti', 'previou', 'player', 'quickli', 'star', 'heart', 'equal', 'maintain', 'imagin'], ['michael', 'pleas', 'newspap', 'stronger', 'nicola', 'round', 'fascin', 'split', 'polic', 'pro'], ['count', 'nigel', 'bet', 'poll', 'vote', 'remain', 'rain', 'flood', 'briton', 'farag']]\n",
      "Coherence score: \n",
      "0.4065940187087908\n",
      "Diversity score:\n",
      "1.0\n",
      "Interpretability score: \n",
      "0.4065940187087908\n"
     ]
    }
   ],
   "source": [
    "# Evaluation\n",
    "coherence = flsaW.get_coherence_score(input_file=clean_text, topics=topics)\n",
    "diversity = flsaW.get_diversity_score(topics=topics)\n",
    "interpretability = flsaW.get_interpretability_score(input_file=clean_text, topics=topics)\n",
    "\n",
    "print(topics)\n",
    "\n",
    "print(\"Coherence score: \", str(coherence), \"Diversity score:\", str(diversity), \"Interpretability score: \", str(interpretability), sep=\"\\n\")"
   ]
  }
 ],
 "metadata": {
  "colab": {
   "collapsed_sections": [],
   "provenance": []
  },
  "kernelspec": {
   "display_name": "Python 3 (ipykernel)",
   "language": "python",
   "name": "python3"
  },
  "language_info": {
   "codemirror_mode": {
    "name": "ipython",
    "version": 3
   },
   "file_extension": ".py",
   "mimetype": "text/x-python",
   "name": "python",
   "nbconvert_exporter": "python",
   "pygments_lexer": "ipython3",
   "version": "3.8.10"
  }
 },
 "nbformat": 4,
 "nbformat_minor": 4
}
