{
 "cells": [
  {
   "cell_type": "code",
   "execution_count": 1,
   "metadata": {
    "colab": {
     "base_uri": "https://localhost:8080/"
    },
    "executionInfo": {
     "elapsed": 4569,
     "status": "ok",
     "timestamp": 1665567738143,
     "user": {
      "displayName": "Emil Rijcken",
      "userId": "02456108493913908841"
     },
     "user_tz": -120
    },
    "id": "qsv226K6-g29",
    "outputId": "a5bcc4bb-41c6-47f0-f5bc-102b5e03c4fa"
   },
   "outputs": [],
   "source": [
    "import pickle\n",
    "import re\n",
    "\n",
    "from gensim.models.coherencemodel import CoherenceModel\n",
    "from gensim.utils import simple_preprocess\n",
    "from gensim.models import LsiModel\n",
    "from gensim.models import LdaModel\n",
    "from gensim import similarities\n",
    "import gensim.corpora as corpora\n",
    "import gensim\n",
    "\n",
    "from nltk.stem.porter import PorterStemmer\n",
    "from nltk.tokenize import RegexpTokenizer\n",
    "from nltk.corpus import stopwords\n",
    "import nltk\n",
    "\n",
    "from FuzzyTM import FLSA_W\n",
    "\n",
    "import matplotlib.pyplot as plt"
   ]
  },
  {
   "cell_type": "code",
   "execution_count": 2,
   "metadata": {},
   "outputs": [
    {
     "name": "stderr",
     "output_type": "stream",
     "text": [
      "[nltk_data] Downloading package stopwords to\n",
      "[nltk_data]     /home/tomdewildt/nltk_data...\n",
      "[nltk_data]   Package stopwords is already up-to-date!\n"
     ]
    },
    {
     "data": {
      "text/plain": [
       "True"
      ]
     },
     "execution_count": 2,
     "metadata": {},
     "output_type": "execute_result"
    }
   ],
   "source": [
    "nltk.download(\"stopwords\")"
   ]
  },
  {
   "cell_type": "code",
   "execution_count": 3,
   "metadata": {
    "id": "_D867yo_EZ-w"
   },
   "outputs": [],
   "source": [
    "with open(\"../data/documents.pkl\", \"rb\") as input_file:\n",
    "    tm_data = pickle.load(input_file)   "
   ]
  },
  {
   "cell_type": "code",
   "execution_count": 4,
   "metadata": {
    "id": "BuOKbj_eHTt0"
   },
   "outputs": [],
   "source": [
    "def preprocess_data(doc_set):\n",
    "    \"\"\"\n",
    "    Input  : docuemnt list\n",
    "    Purpose: preprocess text (tokenize, removing stopwords, and stemming)\n",
    "    Output : preprocessed text\n",
    "    \"\"\"\n",
    "    # Initialize regex tokenizer\n",
    "    tokenizer = RegexpTokenizer(r\"\\w+\")\n",
    "\n",
    "    # Create English stop words list\n",
    "    en_stop = set(stopwords.words(\"english\"))\n",
    "\n",
    "    # Create p_stemmer of class PorterStemmer\n",
    "    p_stemmer = PorterStemmer()\n",
    "\n",
    "    # List for tokenized documents in loop\n",
    "    texts = []\n",
    "\n",
    "    # Loop through document list\n",
    "    for i in doc_set:\n",
    "        # Clean and tokenize document string\n",
    "        raw = i.lower()    \n",
    "        tokens = tokenizer.tokenize(raw)\n",
    "\n",
    "        # Remove stop words from tokens\n",
    "        stopped_tokens = [i for i in tokens if not i in en_stop]\n",
    "\n",
    "        # Stem tokens\n",
    "        stemmed_tokens = [p_stemmer.stem(i) for i in stopped_tokens]\n",
    "\n",
    "        # Add tokens to list\n",
    "        texts.append(stemmed_tokens)\n",
    "\n",
    "    return texts"
   ]
  },
  {
   "cell_type": "code",
   "execution_count": 5,
   "metadata": {
    "id": "BopQ5JcBJ0Hv"
   },
   "outputs": [],
   "source": [
    "def prepare_corpus(doc_clean):\n",
    "    \"\"\"\n",
    "    Input  : clean document\n",
    "    Purpose: create term dictionary of our courpus and Converting list of documents (corpus) into Document Term Matrix\n",
    "    Output : term dictionary and Document Term Matrix\n",
    "    \"\"\"\n",
    "    # Creating the term dictionary of our courpus, where every unique term is assigned an index. dictionary = corpora.Dictionary(doc_clean)\n",
    "    dictionary = corpora.Dictionary(doc_clean)\n",
    "\n",
    "    # Converting list of documents (corpus) into Document Term Matrix using dictionary prepared above.\n",
    "    doc_term_matrix = [dictionary.doc2bow(doc) for doc in doc_clean]\n",
    "\n",
    "    # Generate LSA model\n",
    "    return dictionary, doc_term_matrix"
   ]
  },
  {
   "cell_type": "code",
   "execution_count": 6,
   "metadata": {
    "id": "Ha0CmhdvVjPT"
   },
   "outputs": [],
   "source": [
    "def create_gensim_lsa_model(doc_clean, number_of_topics,words):\n",
    "    \"\"\"\n",
    "    Input  : clean document, number of topics and number of words associated with each topic\n",
    "    Purpose: create LSA model using gensim\n",
    "    Output : return LSA model\n",
    "    \"\"\"\n",
    "    dictionary,doc_term_matrix=prepare_corpus(doc_clean)\n",
    "\n",
    "    # Generate LSA model\n",
    "    lsamodel = LsiModel(doc_term_matrix, num_topics=number_of_topics, id2word = dictionary)\n",
    "\n",
    "    print(lsamodel.print_topics(num_topics=number_of_topics, num_words=words))\n",
    "\n",
    "    return lsamodel"
   ]
  },
  {
   "cell_type": "code",
   "execution_count": 7,
   "metadata": {
    "id": "YEGf6vWT-efS"
   },
   "outputs": [],
   "source": [
    "def create_gensim_lda_model(doc_clean, number_of_topics,words):\n",
    "    \"\"\"\n",
    "    Input  : clean document, number of topics and number of words associated with each topic\n",
    "    Purpose: create LSA model using gensim\n",
    "    Output : return LSA model\n",
    "    \"\"\"\n",
    "    dictionary,doc_term_matrix=prepare_corpus(doc_clean)\n",
    "\n",
    "    # Generate LDA model\n",
    "    ldamodel = LdaModel(doc_term_matrix, num_topics=number_of_topics, id2word=dictionary, passes=10, update_every=1, chunksize=10, alpha=\"auto\")\n",
    "\n",
    "    print(ldamodel.print_topics(num_topics=number_of_topics, num_words=words))\n",
    "\n",
    "    return ldamodel"
   ]
  },
  {
   "cell_type": "code",
   "execution_count": 8,
   "metadata": {
    "id": "bBjBEsXzVqNn"
   },
   "outputs": [],
   "source": [
    "def compute_coherence_values(dictionary, doc_term_matrix, doc_clean, stop, start=2, step=3, tm=\"lda\"):\n",
    "    \"\"\"\n",
    "    Input   : dictionary : Gensim dictionary\n",
    "              corpus : Gensim corpus\n",
    "              texts : List of input texts\n",
    "              stop : Max num of topics\n",
    "    purpose : Compute c_v coherence for various number of topics\n",
    "    Output  : model_list : List of LSA topic models\n",
    "              coherence_values : Coherence values corresponding to the LDA model with respective number of topics\n",
    "    \"\"\"\n",
    "    coherence_values = []\n",
    "    model_list = []\n",
    "\n",
    "    for topic_num in range(start, stop, step):\n",
    "        if tm == \"lsa\":\n",
    "            model = LsiModel(doc_term_matrix, num_topics=topic_num, id2word=dictionary)\n",
    "        else:\n",
    "            model = LdaModel(doc_term_matrix, num_topics=topic_num, id2word=dictionary, passes=10, update_every=1, chunksize=10, alpha=\"auto\")\n",
    "\n",
    "        model_list.append(model)\n",
    "\n",
    "        coherencemodel = CoherenceModel(model=model, texts=doc_clean, dictionary=dictionary, coherence=\"c_v\")\n",
    "        coherence_values.append(coherencemodel.get_coherence())\n",
    "\n",
    "    return model_list, coherence_values"
   ]
  },
  {
   "cell_type": "code",
   "execution_count": 9,
   "metadata": {
    "id": "wT0OFpKGWIrJ"
   },
   "outputs": [],
   "source": [
    "clean_text = preprocess_data(tm_data)"
   ]
  },
  {
   "cell_type": "code",
   "execution_count": 10,
   "metadata": {
    "colab": {
     "base_uri": "https://localhost:8080/",
     "height": 279
    },
    "executionInfo": {
     "elapsed": 560915,
     "status": "ok",
     "timestamp": 1665487501907,
     "user": {
      "displayName": "Nemania Borovits",
      "userId": "12051785864540074566"
     },
     "user_tz": -120
    },
    "id": "iTUqsNi8V1si",
    "outputId": "101f56ae-e5ff-45fa-bf09-757784bf672c"
   },
   "outputs": [
    {
     "data": {
      "image/png": "[encoded data removed]",
      "text/plain": [
       "<Figure size 640x480 with 1 Axes>"
      ]
     },
     "metadata": {},
     "output_type": "display_data"
    }
   ],
   "source": [
    "def plot_graph(doc_clean, start, stop, step, t_m=\"lda\"):\n",
    "    dictionary,doc_term_matrix = prepare_corpus(clean_text)\n",
    "    model_list, coherence_values = compute_coherence_values(dictionary, doc_term_matrix, doc_clean, stop, start, step, tm=t_m)\n",
    "\n",
    "    # Show graph\n",
    "    x = range(start, stop, step)\n",
    "    plt.plot(x, coherence_values)\n",
    "    plt.xlabel(\"Number of Topics\")\n",
    "    plt.ylabel(\"Coherence score\")\n",
    "    plt.legend((\"coherence_values\"), loc=\"best\")\n",
    "    plt.show()\n",
    "\n",
    "start, stop, step = 2, 12, 1\n",
    "plot_graph(clean_text, start, stop, step, t_m=\"lsa\")"
   ]
  },
  {
   "cell_type": "code",
   "execution_count": 11,
   "metadata": {
    "colab": {
     "base_uri": "https://localhost:8080/"
    },
    "executionInfo": {
     "elapsed": 10,
     "status": "ok",
     "timestamp": 1665491487167,
     "user": {
      "displayName": "Nemania Borovits",
      "userId": "12051785864540074566"
     },
     "user_tz": -120
    },
    "id": "caS3CWwu_WZv",
    "outputId": "c5ba42b6-7f81-4de7-b70e-0b68f572efbb"
   },
   "outputs": [
    {
     "data": {
      "text/plain": [
       "500"
      ]
     },
     "execution_count": 11,
     "metadata": {},
     "output_type": "execute_result"
    }
   ],
   "source": [
    "len(tm_data[:500])"
   ]
  },
  {
   "cell_type": "code",
   "execution_count": 12,
   "metadata": {
    "colab": {
     "base_uri": "https://localhost:8080/",
     "height": 200
    },
    "executionInfo": {
     "elapsed": 368,
     "status": "error",
     "timestamp": 1665567814139,
     "user": {
      "displayName": "Emil Rijcken",
      "userId": "02456108493913908841"
     },
     "user_tz": -120
    },
    "id": "GLK1KLLzwO_u",
    "outputId": "8eab1a0c-2806-4581-af0a-dc11188b29a7"
   },
   "outputs": [
    {
     "data": {
      "image/png": "[encoded data removed]",
      "text/plain": [
       "<Figure size 640x480 with 1 Axes>"
      ]
     },
     "metadata": {},
     "output_type": "display_data"
    }
   ],
   "source": [
    "clean_text = preprocess_data(tm_data[:500])\n",
    "\n",
    "start, stop, step = 2, 6, 1\n",
    "plot_graph(clean_text, start, stop, step, t_m=\"lda\")"
   ]
  },
  {
   "cell_type": "code",
   "execution_count": 13,
   "metadata": {
    "colab": {
     "base_uri": "https://localhost:8080/"
    },
    "executionInfo": {
     "elapsed": 11614,
     "status": "ok",
     "timestamp": 1665486660740,
     "user": {
      "displayName": "Nemania Borovits",
      "userId": "12051785864540074566"
     },
     "user_tz": -120
    },
    "id": "tWyI5vCqV8_D",
    "outputId": "215083b9-c5e6-4df8-e0dd-1a8602554894"
   },
   "outputs": [
    {
     "name": "stdout",
     "output_type": "stream",
     "text": [
      "[(0, '0.815*\"â\" + 0.147*\"trump\" + 0.145*\"said\" + 0.114*\"say\" + 0.087*\"vote\" + 0.087*\"would\" + 0.083*\"one\" + 0.081*\"peopl\" + 0.081*\"year\" + 0.073*\"campaign\"'), (1, '0.446*\"trump\" + -0.198*\"say\" + -0.186*\"hammond\" + -0.185*\"year\" + 0.178*\"presid\" + -0.167*\"statement\" + -0.152*\"brexit\" + -0.143*\"govern\" + 0.142*\"â\" + -0.139*\"autumn\"'), (2, '-0.356*\"poll\" + -0.355*\"vote\" + 0.225*\"trump\" + -0.215*\"remain\" + -0.185*\"leav\" + 0.184*\"statement\" + 0.175*\"hammond\" + -0.168*\"station\" + 0.160*\"say\" + -0.134*\"referendum\"'), (3, '0.417*\"trump\" + -0.367*\"â\" + 0.227*\"presid\" + 0.227*\"elect\" + 0.217*\"vote\" + 0.188*\"poll\" + 0.127*\"eu\" + 0.125*\"campaign\" + 0.125*\"remain\" + 0.118*\"obama\"')]\n",
      "Topic  0 : ['â', 'trump', 'said', 'say', 'vote', 'would', 'one', 'peopl', 'year', 'campaign']\n",
      "Topic  1 : ['trump', 'say', 'hammond', 'year', 'presid', 'statement', 'brexit', 'govern', 'â', 'autumn']\n",
      "Topic  2 : ['poll', 'vote', 'trump', 'remain', 'leav', 'statement', 'hammond', 'station', 'say', 'referendum']\n",
      "Topic  3 : ['trump', 'â', 'presid', 'elect', 'vote', 'poll', 'eu', 'campaign', 'remain', 'obama']\n"
     ]
    }
   ],
   "source": [
    "# LSA Model\n",
    "words = 10\n",
    "new_number_of_topics = 4\n",
    "\n",
    "model = create_gensim_lsa_model(clean_text, new_number_of_topics, words)\n",
    "topic_words = model.print_topics(num_topics=new_number_of_topics, num_words=words)\n",
    "\n",
    "for i, topic in enumerate(topic_words):\n",
    "    print(\"Topic \", i, \":\", re.findall(r'\"(.*?)\"', topic[1]))"
   ]
  },
  {
   "cell_type": "code",
   "execution_count": 14,
   "metadata": {
    "colab": {
     "base_uri": "https://localhost:8080/"
    },
    "executionInfo": {
     "elapsed": 14706,
     "status": "ok",
     "timestamp": 1665492221762,
     "user": {
      "displayName": "Nemania Borovits",
      "userId": "12051785864540074566"
     },
     "user_tz": -120
    },
    "id": "NGyG2KJSHJbN",
    "outputId": "2238e9f0-b1e4-4cf1-e27b-7eccc9d2c401"
   },
   "outputs": [
    {
     "name": "stdout",
     "output_type": "stream",
     "text": [
      "[(0, '0.022*\"â\" + 0.012*\"bank\" + 0.010*\"said\" + 0.009*\"eu\" + 0.008*\"govern\" + 0.008*\"year\" + 0.006*\"uk\" + 0.006*\"would\" + 0.005*\"brexit\" + 0.004*\"market\"'), (1, '0.021*\"film\" + 0.009*\"play\" + 0.008*\"music\" + 0.007*\"movi\" + 0.007*\"star\" + 0.006*\"stori\" + 0.006*\"song\" + 0.005*\"album\" + 0.005*\"love\" + 0.005*\"war\"'), (2, '0.025*\"min\" + 0.012*\"leagu\" + 0.011*\"villa\" + 0.010*\"game\" + 0.010*\"season\" + 0.009*\"goal\" + 0.009*\"team\" + 0.009*\"player\" + 0.008*\"everton\" + 0.006*\"citi\"'), (3, '0.025*\"health\" + 0.012*\"patient\" + 0.012*\"nh\" + 0.011*\"depress\" + 0.011*\"studi\" + 0.010*\"research\" + 0.008*\"antidepress\" + 0.008*\"mental\" + 0.008*\"test\" + 0.008*\"care\"'), (4, '0.058*\"â\" + 0.008*\"said\" + 0.007*\"trump\" + 0.006*\"would\" + 0.006*\"one\" + 0.006*\"say\" + 0.005*\"time\" + 0.005*\"go\" + 0.005*\"like\" + 0.004*\"peopl\"')]\n",
      "Topic  0 : ['â', 'bank', 'said', 'eu', 'govern', 'year', 'uk', 'would', 'brexit', 'market']\n",
      "Topic  1 : ['film', 'play', 'music', 'movi', 'star', 'stori', 'song', 'album', 'love', 'war']\n",
      "Topic  2 : ['min', 'leagu', 'villa', 'game', 'season', 'goal', 'team', 'player', 'everton', 'citi']\n",
      "Topic  3 : ['health', 'patient', 'nh', 'depress', 'studi', 'research', 'antidepress', 'mental', 'test', 'care']\n",
      "Topic  4 : ['â', 'said', 'trump', 'would', 'one', 'say', 'time', 'go', 'like', 'peopl']\n"
     ]
    }
   ],
   "source": [
    "# LDA Model\n",
    "words = 10\n",
    "new_number_of_topics = 5\n",
    "\n",
    "model = create_gensim_lda_model(clean_text, new_number_of_topics,words)\n",
    "topic_words = model.print_topics(num_topics=new_number_of_topics, num_words=words)\n",
    "\n",
    "for i, topic in enumerate(topic_words):\n",
    "    print(\"Topic \", i, \":\", re.findall(r'\"(.*?)\"', topic[1]))"
   ]
  },
  {
   "cell_type": "code",
   "execution_count": 15,
   "metadata": {
    "colab": {
     "base_uri": "https://localhost:8080/",
     "height": 235
    },
    "executionInfo": {
     "elapsed": 10,
     "status": "error",
     "timestamp": 1665567802339,
     "user": {
      "displayName": "Emil Rijcken",
      "userId": "02456108493913908841"
     },
     "user_tz": -120
    },
    "id": "Q8cluMnQSrYU",
    "outputId": "480e9088-c6cf-44cc-ba9d-74e0d9ad2645"
   },
   "outputs": [
    {
     "name": "stdout",
     "output_type": "stream",
     "text": [
      "[['like', 'recent', 'think', 'far', 'give', 'number', 'anoth', 'head', 'follow', 'world'], ['count', 'nigel', 'bet', 'poll', 'flood', 'weather', 'constitu', 'dayâ', 'rain', 'undecid'], ['product', 'cost', 'tackl', 'fund', 'chart', 'pay', 'path', 'balanc', 'chariti', 'increas'], ['level', 'although', 'current', '000', 'john', 'reveal', 'former', 'respons', 'explain', 'given'], ['break', 'case', 'parti', 'forc', 'fight', 'thought', 'top', 'alway', 'media', 'interview'], ['artist', 'attitud', 'pop', 'technolog', '2011', 'band', 'fashion', 'embarrass', 'festiv', 'sister'], ['summer', 'digit', 'bodi', 'truth', 'admit', 'seri', 'adopt', 'modern', 'profil', 'avail'], ['whose', 'age', 'industri', 'prospect', 'grow', 'death', 'defend', 'along', 'alleg', 'compani'], ['freedom', 'imag', 'surg', 'treat', 'influenc', 'arguabl', 'histor', 'occasion', 'extens', 'william'], ['reason', 'hold', 'œthe', 'return', 'arriv', 'worri', 'theyâ', 'across', 'emerg', 'yearâ'], ['spend', 'credit', 'cut', 'governmentâ', 'tax', 'infrastructur', 'rise', 'invest', 'georg', 'fee'], ['england', 'guid', 'alter', 'photograph', 'broadcast', 'definit', 'hashtag', 'entitl', 'exercis', 'coast'], ['scale', '50', 'limit', 'ongo', '5bn', 'energi', 'insur', 'formal', '2010', 'drive'], ['courtney', 'albert', 'romcom', 'jock', 'barclaysâ', 'fusion', 'rework', 'copyright', 'vain', 'reynold'], ['never', 'servic', 'financi', 'system', 'secur', 'power', 'clearli', 'repres', 'inform', 'chair'], ['star', 'physic', 'easili', 'principl', 'pain', 'chairman', 'perfect', 'fortun', 'structur', 'guarante'], ['swift', 'olymp', 'lineup', 'guitarist', 'nonsens', 'supermarket', 'guardian', 'appl', 'roman', 'showâ'], ['difficult', 'qualiti', 'previou', 'celebr', 'era', 'individu', 'career', 'game', 'inspir', 'mere'], ['studio', 'twist', '1970', 'adventur', 'behav', 'ring', 'sea', 'singer', 'gig', 'œwith'], ['michael', 'edinburgh', 'wherea', 'camp', 'nicola', '00', 'council', 'polic', 'germani', 'emili']]\n",
      "Coherence score: \n",
      "0.372103695944847\n",
      "Diversity score:\n",
      "1.0\n",
      "Interpretability score: \n",
      "0.372103695944847\n"
     ]
    }
   ],
   "source": [
    "# Initialize model\n",
    "flsaW = FLSA_W(\n",
    "    input_file=clean_text,\n",
    "    num_topics=20,\n",
    "    num_words=10,\n",
    ")\n",
    "\n",
    "# Train topic model and obtain to matrices\n",
    "pwgt, ptgd = flsaW.get_matrices()\n",
    "\n",
    "# Get topics\n",
    "topics = flsaW.show_topics(representation=\"words\")\n",
    "\n",
    "print(topics)\n",
    "\n",
    "# Evaluation\n",
    "coherence = flsaW.get_coherence_score(input_file=clean_text, topics=topics)\n",
    "diversity = flsaW.get_diversity_score(topics=topics)\n",
    "interpretability = flsaW.get_interpretability_score(input_file=clean_text, topics=topics)\n",
    "\n",
    "print(\"Coherence score: \", str(coherence), \"Diversity score:\", str(diversity), \"Interpretability score: \", str(interpretability), sep=\"\\n\")"
   ]
  }
 ],
 "metadata": {
  "colab": {
   "collapsed_sections": [],
   "provenance": []
  },
  "kernelspec": {
   "display_name": "Python 3 (ipykernel)",
   "language": "python",
   "name": "python3"
  },
  "language_info": {
   "codemirror_mode": {
    "name": "ipython",
    "version": 3
   },
   "file_extension": ".py",
   "mimetype": "text/x-python",
   "name": "python",
   "nbconvert_exporter": "python",
   "pygments_lexer": "ipython3",
   "version": "3.8.10"
  }
 },
 "nbformat": 4,
 "nbformat_minor": 4
}
