{
 "cells": [
  {
   "cell_type": "markdown",
   "metadata": {
    "id": "tuqGMKi0v_O3"
   },
   "source": [
    "<h2>Import libraries</h2>"
   ]
  },
  {
   "cell_type": "code",
   "execution_count": 1,
   "metadata": {
    "colab": {
     "base_uri": "https://localhost:8080/"
    },
    "executionInfo": {
     "elapsed": 1451,
     "status": "ok",
     "timestamp": 1665643966790,
     "user": {
      "displayName": "Nemania Borovits",
      "userId": "12051785864540074566"
     },
     "user_tz": -120
    },
    "id": "2vaTZ7NMbyCZ",
    "outputId": "bb613684-7057-4a13-bc4f-e847837c6be2"
   },
   "outputs": [],
   "source": [
    "import string\n",
    "import re\n",
    "\n",
    "from nltk.corpus import stopwords\n",
    "from nltk.stem import WordNetLemmatizer\n",
    "import nltk\n",
    "\n",
    "from sklearn.feature_extraction.text import CountVectorizer\n",
    "from sklearn.model_selection import train_test_split\n",
    "from sklearn.metrics import classification_report\n",
    "from sklearn.metrics import plot_confusion_matrix\n",
    "from sklearn.naive_bayes import MultinomialNB\n",
    "from sklearn import preprocessing\n",
    "\n",
    "import matplotlib.pyplot as plt\n",
    "import pandas as pd\n",
    "import numpy as np"
   ]
  },
  {
   "cell_type": "code",
   "execution_count": 2,
   "metadata": {},
   "outputs": [
    {
     "name": "stderr",
     "output_type": "stream",
     "text": [
      "[nltk_data] Downloading package stopwords to\n",
      "[nltk_data]     /home/tomdewildt/nltk_data...\n",
      "[nltk_data]   Package stopwords is already up-to-date!\n",
      "[nltk_data] Downloading package wordnet to\n",
      "[nltk_data]     /home/tomdewildt/nltk_data...\n",
      "[nltk_data]   Package wordnet is already up-to-date!\n",
      "[nltk_data] Downloading package omw-1.4 to\n",
      "[nltk_data]     /home/tomdewildt/nltk_data...\n",
      "[nltk_data]   Package omw-1.4 is already up-to-date!\n"
     ]
    },
    {
     "data": {
      "text/plain": [
       "True"
      ]
     },
     "execution_count": 2,
     "metadata": {},
     "output_type": "execute_result"
    }
   ],
   "source": [
    "nltk.download(\"stopwords\")\n",
    "nltk.download(\"wordnet\")\n",
    "nltk.download(\"omw-1.4\")"
   ]
  },
  {
   "cell_type": "code",
   "execution_count": 3,
   "metadata": {},
   "outputs": [],
   "source": [
    "lemmatizer = WordNetLemmatizer()"
   ]
  },
  {
   "cell_type": "markdown",
   "metadata": {
    "id": "Wmi_34MivR-Y"
   },
   "source": [
    "<h2>Read data & EDA</h2>"
   ]
  },
  {
   "cell_type": "code",
   "execution_count": 4,
   "metadata": {
    "colab": {
     "base_uri": "https://localhost:8080/",
     "height": 496
    },
    "executionInfo": {
     "elapsed": 446,
     "status": "ok",
     "timestamp": 1665643976679,
     "user": {
      "displayName": "Nemania Borovits",
      "userId": "12051785864540074566"
     },
     "user_tz": -120
    },
    "id": "Cqgl9ADVqgOc",
    "outputId": "d1c4b212-5a0d-4443-d285-fad3177174f3"
   },
   "outputs": [
    {
     "data": {
      "text/html": [
       "<div>\n",
       "<style scoped>\n",
       "    .dataframe tbody tr th:only-of-type {\n",
       "        vertical-align: middle;\n",
       "    }\n",
       "\n",
       "    .dataframe tbody tr th {\n",
       "        vertical-align: top;\n",
       "    }\n",
       "\n",
       "    .dataframe thead th {\n",
       "        text-align: right;\n",
       "    }\n",
       "</style>\n",
       "<table border=\"1\" class=\"dataframe\">\n",
       "  <thead>\n",
       "    <tr style=\"text-align: right;\">\n",
       "      <th></th>\n",
       "      <th>tweet_id</th>\n",
       "      <th>airline_sentiment</th>\n",
       "      <th>airline_sentiment_confidence</th>\n",
       "      <th>negativereason</th>\n",
       "      <th>negativereason_confidence</th>\n",
       "      <th>airline</th>\n",
       "      <th>airline_sentiment_gold</th>\n",
       "      <th>name</th>\n",
       "      <th>negativereason_gold</th>\n",
       "      <th>retweet_count</th>\n",
       "      <th>text</th>\n",
       "      <th>tweet_coord</th>\n",
       "      <th>tweet_created</th>\n",
       "      <th>tweet_location</th>\n",
       "      <th>user_timezone</th>\n",
       "    </tr>\n",
       "  </thead>\n",
       "  <tbody>\n",
       "    <tr>\n",
       "      <th>0</th>\n",
       "      <td>570306133677760513</td>\n",
       "      <td>neutral</td>\n",
       "      <td>1.0000</td>\n",
       "      <td>NaN</td>\n",
       "      <td>NaN</td>\n",
       "      <td>Virgin America</td>\n",
       "      <td>NaN</td>\n",
       "      <td>cairdin</td>\n",
       "      <td>NaN</td>\n",
       "      <td>0</td>\n",
       "      <td>@VirginAmerica What @dhepburn said.</td>\n",
       "      <td>NaN</td>\n",
       "      <td>2015-02-24 11:35:52 -0800</td>\n",
       "      <td>NaN</td>\n",
       "      <td>Eastern Time (US &amp; Canada)</td>\n",
       "    </tr>\n",
       "    <tr>\n",
       "      <th>1</th>\n",
       "      <td>570301130888122368</td>\n",
       "      <td>positive</td>\n",
       "      <td>0.3486</td>\n",
       "      <td>NaN</td>\n",
       "      <td>0.0000</td>\n",
       "      <td>Virgin America</td>\n",
       "      <td>NaN</td>\n",
       "      <td>jnardino</td>\n",
       "      <td>NaN</td>\n",
       "      <td>0</td>\n",
       "      <td>@VirginAmerica plus you've added commercials t...</td>\n",
       "      <td>NaN</td>\n",
       "      <td>2015-02-24 11:15:59 -0800</td>\n",
       "      <td>NaN</td>\n",
       "      <td>Pacific Time (US &amp; Canada)</td>\n",
       "    </tr>\n",
       "    <tr>\n",
       "      <th>2</th>\n",
       "      <td>570301083672813571</td>\n",
       "      <td>neutral</td>\n",
       "      <td>0.6837</td>\n",
       "      <td>NaN</td>\n",
       "      <td>NaN</td>\n",
       "      <td>Virgin America</td>\n",
       "      <td>NaN</td>\n",
       "      <td>yvonnalynn</td>\n",
       "      <td>NaN</td>\n",
       "      <td>0</td>\n",
       "      <td>@VirginAmerica I didn't today... Must mean I n...</td>\n",
       "      <td>NaN</td>\n",
       "      <td>2015-02-24 11:15:48 -0800</td>\n",
       "      <td>Lets Play</td>\n",
       "      <td>Central Time (US &amp; Canada)</td>\n",
       "    </tr>\n",
       "    <tr>\n",
       "      <th>3</th>\n",
       "      <td>570301031407624196</td>\n",
       "      <td>negative</td>\n",
       "      <td>1.0000</td>\n",
       "      <td>Bad Flight</td>\n",
       "      <td>0.7033</td>\n",
       "      <td>Virgin America</td>\n",
       "      <td>NaN</td>\n",
       "      <td>jnardino</td>\n",
       "      <td>NaN</td>\n",
       "      <td>0</td>\n",
       "      <td>@VirginAmerica it's really aggressive to blast...</td>\n",
       "      <td>NaN</td>\n",
       "      <td>2015-02-24 11:15:36 -0800</td>\n",
       "      <td>NaN</td>\n",
       "      <td>Pacific Time (US &amp; Canada)</td>\n",
       "    </tr>\n",
       "    <tr>\n",
       "      <th>4</th>\n",
       "      <td>570300817074462722</td>\n",
       "      <td>negative</td>\n",
       "      <td>1.0000</td>\n",
       "      <td>Can't Tell</td>\n",
       "      <td>1.0000</td>\n",
       "      <td>Virgin America</td>\n",
       "      <td>NaN</td>\n",
       "      <td>jnardino</td>\n",
       "      <td>NaN</td>\n",
       "      <td>0</td>\n",
       "      <td>@VirginAmerica and it's a really big bad thing...</td>\n",
       "      <td>NaN</td>\n",
       "      <td>2015-02-24 11:14:45 -0800</td>\n",
       "      <td>NaN</td>\n",
       "      <td>Pacific Time (US &amp; Canada)</td>\n",
       "    </tr>\n",
       "  </tbody>\n",
       "</table>\n",
       "</div>"
      ],
      "text/plain": [
       "             tweet_id airline_sentiment  airline_sentiment_confidence  \\\n",
       "0  570306133677760513           neutral                        1.0000   \n",
       "1  570301130888122368          positive                        0.3486   \n",
       "2  570301083672813571           neutral                        0.6837   \n",
       "3  570301031407624196          negative                        1.0000   \n",
       "4  570300817074462722          negative                        1.0000   \n",
       "\n",
       "  negativereason  negativereason_confidence         airline  \\\n",
       "0            NaN                        NaN  Virgin America   \n",
       "1            NaN                     0.0000  Virgin America   \n",
       "2            NaN                        NaN  Virgin America   \n",
       "3     Bad Flight                     0.7033  Virgin America   \n",
       "4     Can't Tell                     1.0000  Virgin America   \n",
       "\n",
       "  airline_sentiment_gold        name negativereason_gold  retweet_count  \\\n",
       "0                    NaN     cairdin                 NaN              0   \n",
       "1                    NaN    jnardino                 NaN              0   \n",
       "2                    NaN  yvonnalynn                 NaN              0   \n",
       "3                    NaN    jnardino                 NaN              0   \n",
       "4                    NaN    jnardino                 NaN              0   \n",
       "\n",
       "                                                text tweet_coord  \\\n",
       "0                @VirginAmerica What @dhepburn said.         NaN   \n",
       "1  @VirginAmerica plus you've added commercials t...         NaN   \n",
       "2  @VirginAmerica I didn't today... Must mean I n...         NaN   \n",
       "3  @VirginAmerica it's really aggressive to blast...         NaN   \n",
       "4  @VirginAmerica and it's a really big bad thing...         NaN   \n",
       "\n",
       "               tweet_created tweet_location               user_timezone  \n",
       "0  2015-02-24 11:35:52 -0800            NaN  Eastern Time (US & Canada)  \n",
       "1  2015-02-24 11:15:59 -0800            NaN  Pacific Time (US & Canada)  \n",
       "2  2015-02-24 11:15:48 -0800      Lets Play  Central Time (US & Canada)  \n",
       "3  2015-02-24 11:15:36 -0800            NaN  Pacific Time (US & Canada)  \n",
       "4  2015-02-24 11:14:45 -0800            NaN  Pacific Time (US & Canada)  "
      ]
     },
     "execution_count": 4,
     "metadata": {},
     "output_type": "execute_result"
    }
   ],
   "source": [
    "df = pd.read_csv(\"../data/tweets.csv\", delimiter=\",\")\n",
    "df.head()"
   ]
  },
  {
   "cell_type": "code",
   "execution_count": 5,
   "metadata": {
    "colab": {
     "base_uri": "https://localhost:8080/"
    },
    "executionInfo": {
     "elapsed": 7,
     "status": "ok",
     "timestamp": 1665643976680,
     "user": {
      "displayName": "Nemania Borovits",
      "userId": "12051785864540074566"
     },
     "user_tz": -120
    },
    "id": "DkQf-1e2qsoW",
    "outputId": "20aa5482-ac7f-48ab-9ff4-66691626c720"
   },
   "outputs": [
    {
     "name": "stdout",
     "output_type": "stream",
     "text": [
      "The shape of the data is:  (14640, 15)\n"
     ]
    }
   ],
   "source": [
    "print(\"The shape of the data is: \", df.shape)"
   ]
  },
  {
   "cell_type": "code",
   "execution_count": 6,
   "metadata": {
    "colab": {
     "base_uri": "https://localhost:8080/",
     "height": 421
    },
    "executionInfo": {
     "elapsed": 398,
     "status": "ok",
     "timestamp": 1665644007701,
     "user": {
      "displayName": "Nemania Borovits",
      "userId": "12051785864540074566"
     },
     "user_tz": -120
    },
    "id": "5_i-QlgDtW0H",
    "outputId": "b01e3f49-9d26-4fcb-ec8c-9cd64fff826b"
   },
   "outputs": [
    {
     "data": {
      "text/plain": [
       "Text(0.5, 1.0, 'Count of Sentiments')"
      ]
     },
     "execution_count": 6,
     "metadata": {},
     "output_type": "execute_result"
    },
    {
     "data": {
      "image/png": "[encoded data removed]",
      "text/plain": [
       "<Figure size 1200x600 with 1 Axes>"
      ]
     },
     "metadata": {},
     "output_type": "display_data"
    }
   ],
   "source": [
    "counter = df[\"airline_sentiment\"].value_counts()\n",
    "index = [1, 2, 3]\n",
    "\n",
    "plt.figure(1, figsize=(12, 6))\n",
    "plt.bar(index, counter,color=[\"red\", \"blue\", \"green\"])\n",
    "plt.xticks(index,[\"negative\", \"neutral\", \"positive\"], rotation=0)\n",
    "plt.xlabel(\"Sentiments\")\n",
    "plt.ylabel(\"Sentiment Count\")\n",
    "plt.title(\"Count of Sentiments\")"
   ]
  },
  {
   "cell_type": "code",
   "execution_count": 7,
   "metadata": {
    "colab": {
     "base_uri": "https://localhost:8080/",
     "height": 688
    },
    "executionInfo": {
     "elapsed": 500,
     "status": "ok",
     "timestamp": 1665644068332,
     "user": {
      "displayName": "Nemania Borovits",
      "userId": "12051785864540074566"
     },
     "user_tz": -120
    },
    "id": "eySjh5EWuwEV",
    "outputId": "4adb6a4f-3a05-415d-dee9-ace5b4c4f445"
   },
   "outputs": [
    {
     "data": {
      "text/plain": [
       "<AxesSubplot:xlabel='airline'>"
      ]
     },
     "execution_count": 7,
     "metadata": {},
     "output_type": "execute_result"
    },
    {
     "data": {
      "image/png": "[encoded data removed]",
      "text/plain": [
       "<Figure size 1500x1000 with 1 Axes>"
      ]
     },
     "metadata": {},
     "output_type": "display_data"
    }
   ],
   "source": [
    "figure_2 = df.groupby([\"airline\", \"airline_sentiment\"]).size()\n",
    "figure_2.unstack().plot(kind=\"bar\", stacked=True, figsize=(15,10))"
   ]
  },
  {
   "cell_type": "code",
   "execution_count": 8,
   "metadata": {
    "executionInfo": {
     "elapsed": 295,
     "status": "ok",
     "timestamp": 1665644111460,
     "user": {
      "displayName": "Nemania Borovits",
      "userId": "12051785864540074566"
     },
     "user_tz": -120
    },
    "id": "dchFVoF0wGHI"
   },
   "outputs": [],
   "source": [
    "# Remove Virgin America\n",
    "df = df[df[\"airline\"] != \"Virgin America\"]"
   ]
  },
  {
   "cell_type": "code",
   "execution_count": 9,
   "metadata": {
    "colab": {
     "base_uri": "https://localhost:8080/"
    },
    "executionInfo": {
     "elapsed": 288,
     "status": "ok",
     "timestamp": 1665644181677,
     "user": {
      "displayName": "Nemania Borovits",
      "userId": "12051785864540074566"
     },
     "user_tz": -120
    },
    "id": "DFRORSZVrP-S",
    "outputId": "3e155d83-a678-4403-a609-0789c5573909"
   },
   "outputs": [
    {
     "name": "stdout",
     "output_type": "stream",
     "text": [
      "The shape of the data is:  (13910, 15)\n"
     ]
    }
   ],
   "source": [
    "# Remove ambiguous sentiments\n",
    "df = df[df[\"airline_sentiment_confidence\"] >= 0.5]\n",
    "df = df.reset_index(drop=True)\n",
    "print(\"The shape of the data is: \", df.shape)"
   ]
  },
  {
   "cell_type": "code",
   "execution_count": 10,
   "metadata": {
    "executionInfo": {
     "elapsed": 295,
     "status": "ok",
     "timestamp": 1665644184086,
     "user": {
      "displayName": "Nemania Borovits",
      "userId": "12051785864540074566"
     },
     "user_tz": -120
    },
    "id": "rN48R2MsspR8"
   },
   "outputs": [],
   "source": [
    "# Create variables for prediction\n",
    "X = df[\"text\"]\n",
    "Y = df[\"airline_sentiment\"]"
   ]
  },
  {
   "cell_type": "markdown",
   "metadata": {
    "id": "BsnV2BQdb5W8"
   },
   "source": [
    "<h2>Text preprocessing/cleaning</h2>"
   ]
  },
  {
   "cell_type": "code",
   "execution_count": 11,
   "metadata": {
    "executionInfo": {
     "elapsed": 445,
     "status": "ok",
     "timestamp": 1665644516094,
     "user": {
      "displayName": "Nemania Borovits",
      "userId": "12051785864540074566"
     },
     "user_tz": -120
    },
    "id": "wVcoh1c_OfAw"
   },
   "outputs": [],
   "source": [
    "stop_words = stopwords.words(\"english\")\n",
    "\n",
    "for airline in df[\"airline\"].unique():\n",
    "  stop_words.append(airline.lower())\n",
    "\n",
    "stop_words.append(\"us\")\n",
    "stop_words.append(\"airways\")"
   ]
  },
  {
   "cell_type": "code",
   "execution_count": 12,
   "metadata": {
    "executionInfo": {
     "elapsed": 1,
     "status": "ok",
     "timestamp": 1665644517131,
     "user": {
      "displayName": "Nemania Borovits",
      "userId": "12051785864540074566"
     },
     "user_tz": -120
    },
    "id": "6oe_-ig1XWss"
   },
   "outputs": [],
   "source": [
    "def preprocess_texts(texts, airline_df, stopwords):\n",
    "    punctuations = string.punctuation\n",
    "\n",
    "    clean_data = []\n",
    "    clean_data_tokenized = []\n",
    "    for i in range(len(texts)): \n",
    "        # Filter any character not in the specified set i.e. keep only letters\n",
    "        text = re.sub(\"[^a-zA-Z]\", \" \", texts.iloc[i])\n",
    "\n",
    "        # Make a list of words for each text and make it lower case\n",
    "        text = text.lower().split()\n",
    "\n",
    "        # Remove the stop words, leftover punctuations and lemmatize the words\n",
    "        text = [lemmatizer.lemmatize(word) for word in text if (word not in stopwords) and (word not in punctuations)]\n",
    "\n",
    "        clean_data_tokenized.append(text)\n",
    "\n",
    "        # Transform the list again to a string\n",
    "        text = \" \".join(text)\n",
    "\n",
    "        clean_data.append(text)\n",
    "\n",
    "    return clean_data, clean_data_tokenized"
   ]
  },
  {
   "cell_type": "code",
   "execution_count": 13,
   "metadata": {
    "executionInfo": {
     "elapsed": 5261,
     "status": "ok",
     "timestamp": 1665644523447,
     "user": {
      "displayName": "Nemania Borovits",
      "userId": "12051785864540074566"
     },
     "user_tz": -120
    },
    "id": "l1DRQJGNLjJQ"
   },
   "outputs": [],
   "source": [
    "clean_text, clean_text_tokenized = preprocess_texts(X, df, stop_words)"
   ]
  },
  {
   "cell_type": "code",
   "execution_count": 14,
   "metadata": {
    "colab": {
     "base_uri": "https://localhost:8080/"
    },
    "executionInfo": {
     "elapsed": 337,
     "status": "ok",
     "timestamp": 1665644528587,
     "user": {
      "displayName": "Nemania Borovits",
      "userId": "12051785864540074566"
     },
     "user_tz": -120
    },
    "id": "4Nj1Cr_tXbmr",
    "outputId": "d81142d1-c17a-4dd8-c8d7-db7acc289a79"
   },
   "outputs": [
    {
     "data": {
      "text/plain": [
       "['thanks taking care mr happy customer',\n",
       " 'still refund word via dm please resolve issue cancelled flightled flight useless assistant trip',\n",
       " 'delayed due lack crew delayed long line deicing still need improve service',\n",
       " 'even international flight glasgow u orlando newark min',\n",
       " 'think boarded flight au early think',\n",
       " 'understand tough way get airport w serious risk accident steep price']"
      ]
     },
     "execution_count": 14,
     "metadata": {},
     "output_type": "execute_result"
    }
   ],
   "source": [
    "clean_text[1:7]"
   ]
  },
  {
   "cell_type": "code",
   "execution_count": 15,
   "metadata": {
    "colab": {
     "base_uri": "https://localhost:8080/"
    },
    "executionInfo": {
     "elapsed": 288,
     "status": "ok",
     "timestamp": 1665644568931,
     "user": {
      "displayName": "Nemania Borovits",
      "userId": "12051785864540074566"
     },
     "user_tz": -120
    },
    "id": "4mm9IlWpdRxs",
    "outputId": "0a185afd-4662-438a-a3ed-48b81618c76b"
   },
   "outputs": [
    {
     "data": {
      "text/plain": [
       "0        positive\n",
       "1        positive\n",
       "2        negative\n",
       "3        negative\n",
       "4         neutral\n",
       "           ...   \n",
       "13905    negative\n",
       "13906    negative\n",
       "13907     neutral\n",
       "13908    negative\n",
       "13909     neutral\n",
       "Name: airline_sentiment, Length: 13910, dtype: object"
      ]
     },
     "execution_count": 15,
     "metadata": {},
     "output_type": "execute_result"
    }
   ],
   "source": [
    "Y"
   ]
  },
  {
   "cell_type": "code",
   "execution_count": 16,
   "metadata": {
    "colab": {
     "base_uri": "https://localhost:8080/"
    },
    "executionInfo": {
     "elapsed": 526,
     "status": "ok",
     "timestamp": 1665644576644,
     "user": {
      "displayName": "Nemania Borovits",
      "userId": "12051785864540074566"
     },
     "user_tz": -120
    },
    "id": "rWtdgVsOenry",
    "outputId": "003187cb-6691-46ae-d751-53f764921036"
   },
   "outputs": [
    {
     "data": {
      "text/plain": [
       "array(['positive', 'negative', 'neutral'], dtype=object)"
      ]
     },
     "execution_count": 16,
     "metadata": {},
     "output_type": "execute_result"
    }
   ],
   "source": [
    "Y.unique()"
   ]
  },
  {
   "cell_type": "code",
   "execution_count": 17,
   "metadata": {
    "executionInfo": {
     "elapsed": 464,
     "status": "ok",
     "timestamp": 1665644595463,
     "user": {
      "displayName": "Nemania Borovits",
      "userId": "12051785864540074566"
     },
     "user_tz": -120
    },
    "id": "DSGXUg4Xd-jx"
   },
   "outputs": [],
   "source": [
    "# Encode labels\n",
    "le = preprocessing.LabelEncoder()\n",
    "\n",
    "le.fit(Y.unique())\n",
    "\n",
    "y_encoded = list(le.transform(Y))"
   ]
  },
  {
   "cell_type": "code",
   "execution_count": 18,
   "metadata": {
    "executionInfo": {
     "elapsed": 1561,
     "status": "ok",
     "timestamp": 1665644714705,
     "user": {
      "displayName": "Nemania Borovits",
      "userId": "12051785864540074566"
     },
     "user_tz": -120
    },
    "id": "gwk0ORUoeVmy"
   },
   "outputs": [],
   "source": [
    "# Create bag of words considering every word occurence\n",
    "count_vectorizer = CountVectorizer(ngram_range=(1, 1), stop_words=stop_words)\n",
    "\n",
    "X_feat = count_vectorizer.fit_transform(clean_text).toarray()"
   ]
  },
  {
   "cell_type": "code",
   "execution_count": 19,
   "metadata": {
    "colab": {
     "base_uri": "https://localhost:8080/"
    },
    "executionInfo": {
     "elapsed": 731,
     "status": "ok",
     "timestamp": 1665644716631,
     "user": {
      "displayName": "Nemania Borovits",
      "userId": "12051785864540074566"
     },
     "user_tz": -120
    },
    "id": "P1VYax9X50ZN",
    "outputId": "dbd7967e-b54b-4cb2-f74c-b26b70dec586"
   },
   "outputs": [
    {
     "data": {
      "text/plain": [
       "(13910, 12066)"
      ]
     },
     "execution_count": 19,
     "metadata": {},
     "output_type": "execute_result"
    }
   ],
   "source": [
    "X_feat.shape"
   ]
  },
  {
   "cell_type": "code",
   "execution_count": 20,
   "metadata": {
    "executionInfo": {
     "elapsed": 1041,
     "status": "ok",
     "timestamp": 1665644743449,
     "user": {
      "displayName": "Nemania Borovits",
      "userId": "12051785864540074566"
     },
     "user_tz": -120
    },
    "id": "n_H-btNpewrX"
   },
   "outputs": [],
   "source": [
    "# Create a model instance and split dataset to train and test sets\n",
    "model = MultinomialNB()\n",
    "\n",
    "X_train, X_test, Y_train, Y_test = train_test_split(X_feat,Y, test_size=0.3)"
   ]
  },
  {
   "cell_type": "code",
   "execution_count": 21,
   "metadata": {
    "colab": {
     "base_uri": "https://localhost:8080/"
    },
    "executionInfo": {
     "elapsed": 2112,
     "status": "ok",
     "timestamp": 1665644753969,
     "user": {
      "displayName": "Nemania Borovits",
      "userId": "12051785864540074566"
     },
     "user_tz": -120
    },
    "id": "UrlJ8klvkBlC",
    "outputId": "e3b5b7b3-1bd3-414c-91d3-1127d6d3bbe2"
   },
   "outputs": [
    {
     "data": {
      "text/html": [
       "<style>#sk-container-id-1 {color: black;background-color: white;}#sk-container-id-1 pre{padding: 0;}#sk-container-id-1 div.sk-toggleable {background-color: white;}#sk-container-id-1 label.sk-toggleable__label {cursor: pointer;display: block;width: 100%;margin-bottom: 0;padding: 0.3em;box-sizing: border-box;text-align: center;}#sk-container-id-1 label.sk-toggleable__label-arrow:before {content: \"▸\";float: left;margin-right: 0.25em;color: #696969;}#sk-container-id-1 label.sk-toggleable__label-arrow:hover:before {color: black;}#sk-container-id-1 div.sk-estimator:hover label.sk-toggleable__label-arrow:before {color: black;}#sk-container-id-1 div.sk-toggleable__content {max-height: 0;max-width: 0;overflow: hidden;text-align: left;background-color: #f0f8ff;}#sk-container-id-1 div.sk-toggleable__content pre {margin: 0.2em;color: black;border-radius: 0.25em;background-color: #f0f8ff;}#sk-container-id-1 input.sk-toggleable__control:checked~div.sk-toggleable__content {max-height: 200px;max-width: 100%;overflow: auto;}#sk-container-id-1 input.sk-toggleable__control:checked~label.sk-toggleable__label-arrow:before {content: \"▾\";}#sk-container-id-1 div.sk-estimator input.sk-toggleable__control:checked~label.sk-toggleable__label {background-color: #d4ebff;}#sk-container-id-1 div.sk-label input.sk-toggleable__control:checked~label.sk-toggleable__label {background-color: #d4ebff;}#sk-container-id-1 input.sk-hidden--visually {border: 0;clip: rect(1px 1px 1px 1px);clip: rect(1px, 1px, 1px, 1px);height: 1px;margin: -1px;overflow: hidden;padding: 0;position: absolute;width: 1px;}#sk-container-id-1 div.sk-estimator {font-family: monospace;background-color: #f0f8ff;border: 1px dotted black;border-radius: 0.25em;box-sizing: border-box;margin-bottom: 0.5em;}#sk-container-id-1 div.sk-estimator:hover {background-color: #d4ebff;}#sk-container-id-1 div.sk-parallel-item::after {content: \"\";width: 100%;border-bottom: 1px solid gray;flex-grow: 1;}#sk-container-id-1 div.sk-label:hover label.sk-toggleable__label {background-color: #d4ebff;}#sk-container-id-1 div.sk-serial::before {content: \"\";position: absolute;border-left: 1px solid gray;box-sizing: border-box;top: 0;bottom: 0;left: 50%;z-index: 0;}#sk-container-id-1 div.sk-serial {display: flex;flex-direction: column;align-items: center;background-color: white;padding-right: 0.2em;padding-left: 0.2em;position: relative;}#sk-container-id-1 div.sk-item {position: relative;z-index: 1;}#sk-container-id-1 div.sk-parallel {display: flex;align-items: stretch;justify-content: center;background-color: white;position: relative;}#sk-container-id-1 div.sk-item::before, #sk-container-id-1 div.sk-parallel-item::before {content: \"\";position: absolute;border-left: 1px solid gray;box-sizing: border-box;top: 0;bottom: 0;left: 50%;z-index: -1;}#sk-container-id-1 div.sk-parallel-item {display: flex;flex-direction: column;z-index: 1;position: relative;background-color: white;}#sk-container-id-1 div.sk-parallel-item:first-child::after {align-self: flex-end;width: 50%;}#sk-container-id-1 div.sk-parallel-item:last-child::after {align-self: flex-start;width: 50%;}#sk-container-id-1 div.sk-parallel-item:only-child::after {width: 0;}#sk-container-id-1 div.sk-dashed-wrapped {border: 1px dashed gray;margin: 0 0.4em 0.5em 0.4em;box-sizing: border-box;padding-bottom: 0.4em;background-color: white;}#sk-container-id-1 div.sk-label label {font-family: monospace;font-weight: bold;display: inline-block;line-height: 1.2em;}#sk-container-id-1 div.sk-label-container {text-align: center;}#sk-container-id-1 div.sk-container {/* jupyter's `normalize.less` sets `[hidden] { display: none; }` but bootstrap.min.css set `[hidden] { display: none !important; }` so we also need the `!important` here to be able to override the default hidden behavior on the sphinx rendered scikit-learn.org. See: https://github.com/scikit-learn/scikit-learn/issues/21755 */display: inline-block !important;position: relative;}#sk-container-id-1 div.sk-text-repr-fallback {display: none;}</style><div id=\"sk-container-id-1\" class=\"sk-top-container\"><div class=\"sk-text-repr-fallback\"><pre>MultinomialNB()</pre><b>In a Jupyter environment, please rerun this cell to show the HTML representation or trust the notebook. <br />On GitHub, the HTML representation is unable to render, please try loading this page with nbviewer.org.</b></div><div class=\"sk-container\" hidden><div class=\"sk-item\"><div class=\"sk-estimator sk-toggleable\"><input class=\"sk-toggleable__control sk-hidden--visually\" id=\"sk-estimator-id-1\" type=\"checkbox\" checked><label for=\"sk-estimator-id-1\" class=\"sk-toggleable__label sk-toggleable__label-arrow\">MultinomialNB</label><div class=\"sk-toggleable__content\"><pre>MultinomialNB()</pre></div></div></div></div></div>"
      ],
      "text/plain": [
       "MultinomialNB()"
      ]
     },
     "execution_count": 21,
     "metadata": {},
     "output_type": "execute_result"
    }
   ],
   "source": [
    "# Fit the model using training set\n",
    "model.fit(X_train, Y_train)"
   ]
  },
  {
   "cell_type": "code",
   "execution_count": 22,
   "metadata": {
    "executionInfo": {
     "elapsed": 753,
     "status": "ok",
     "timestamp": 1665644758546,
     "user": {
      "displayName": "Nemania Borovits",
      "userId": "12051785864540074566"
     },
     "user_tz": -120
    },
    "id": "p8Hwk0aFmZ61"
   },
   "outputs": [],
   "source": [
    "y_pred = model.predict(X_test)"
   ]
  },
  {
   "cell_type": "code",
   "execution_count": 23,
   "metadata": {
    "colab": {
     "base_uri": "https://localhost:8080/"
    },
    "executionInfo": {
     "elapsed": 321,
     "status": "ok",
     "timestamp": 1665644762229,
     "user": {
      "displayName": "Nemania Borovits",
      "userId": "12051785864540074566"
     },
     "user_tz": -120
    },
    "id": "6B4eFfA0mt-t",
    "outputId": "aaec390a-c417-444b-c0a4-dc5519737bab"
   },
   "outputs": [
    {
     "name": "stdout",
     "output_type": "stream",
     "text": [
      "0.7618020608674815\n"
     ]
    }
   ],
   "source": [
    "classification = classification_report(Y_test, y_pred, output_dict=True)\n",
    "\n",
    "print(classification[\"accuracy\"])"
   ]
  },
  {
   "cell_type": "markdown",
   "metadata": {
    "id": "ESEBUmcE4ON5"
   },
   "source": [
    "<h2>Tune CountVectorizer</h2>"
   ]
  },
  {
   "cell_type": "code",
   "execution_count": 24,
   "metadata": {
    "executionInfo": {
     "elapsed": 745,
     "status": "ok",
     "timestamp": 1665645010878,
     "user": {
      "displayName": "Nemania Borovits",
      "userId": "12051785864540074566"
     },
     "user_tz": -120
    },
    "id": "6OfXPqiImylD"
   },
   "outputs": [],
   "source": [
    "dd = np.sum(X_feat,axis=0)\n",
    "vocab = count_vectorizer.get_feature_names_out()\n",
    "\n",
    "list_of_word_occurences = []\n",
    "for tag, count in zip(vocab, dd):\n",
    "    list_of_word_occurences.append((tag, count))\n",
    "\n",
    "word_count_df = pd.DataFrame(list_of_word_occurences, columns=[\"Tag\", \"Count\"])"
   ]
  },
  {
   "cell_type": "code",
   "execution_count": 25,
   "metadata": {
    "executionInfo": {
     "elapsed": 306,
     "status": "ok",
     "timestamp": 1665645016276,
     "user": {
      "displayName": "Nemania Borovits",
      "userId": "12051785864540074566"
     },
     "user_tz": -120
    },
    "id": "SVU4HgHhm8HT"
   },
   "outputs": [],
   "source": [
    "word_count_df = word_count_df.sort_values(by=[\"Count\"], ascending=False)"
   ]
  },
  {
   "cell_type": "code",
   "execution_count": 26,
   "metadata": {
    "colab": {
     "base_uri": "https://localhost:8080/",
     "height": 424
    },
    "executionInfo": {
     "elapsed": 5,
     "status": "ok",
     "timestamp": 1665645016586,
     "user": {
      "displayName": "Nemania Borovits",
      "userId": "12051785864540074566"
     },
     "user_tz": -120
    },
    "id": "njAmaNABGkMZ",
    "outputId": "3a646683-6644-45f9-e67c-a586363864f7"
   },
   "outputs": [
    {
     "data": {
      "text/html": [
       "<div>\n",
       "<style scoped>\n",
       "    .dataframe tbody tr th:only-of-type {\n",
       "        vertical-align: middle;\n",
       "    }\n",
       "\n",
       "    .dataframe tbody tr th {\n",
       "        vertical-align: top;\n",
       "    }\n",
       "\n",
       "    .dataframe thead th {\n",
       "        text-align: right;\n",
       "    }\n",
       "</style>\n",
       "<table border=\"1\" class=\"dataframe\">\n",
       "  <thead>\n",
       "    <tr style=\"text-align: right;\">\n",
       "      <th></th>\n",
       "      <th>Tag</th>\n",
       "      <th>Count</th>\n",
       "    </tr>\n",
       "  </thead>\n",
       "  <tbody>\n",
       "    <tr>\n",
       "      <th>3758</th>\n",
       "      <td>flight</td>\n",
       "      <td>4426</td>\n",
       "    </tr>\n",
       "    <tr>\n",
       "      <th>11094</th>\n",
       "      <td>usairways</td>\n",
       "      <td>3016</td>\n",
       "    </tr>\n",
       "    <tr>\n",
       "      <th>364</th>\n",
       "      <td>americanair</td>\n",
       "      <td>2935</td>\n",
       "    </tr>\n",
       "    <tr>\n",
       "      <th>9682</th>\n",
       "      <td>southwestair</td>\n",
       "      <td>2406</td>\n",
       "    </tr>\n",
       "    <tr>\n",
       "      <th>5428</th>\n",
       "      <td>jetblue</td>\n",
       "      <td>2340</td>\n",
       "    </tr>\n",
       "    <tr>\n",
       "      <th>...</th>\n",
       "      <td>...</td>\n",
       "      <td>...</td>\n",
       "    </tr>\n",
       "    <tr>\n",
       "      <th>5514</th>\n",
       "      <td>joni</td>\n",
       "      <td>1</td>\n",
       "    </tr>\n",
       "    <tr>\n",
       "      <th>5511</th>\n",
       "      <td>jokesonus</td>\n",
       "      <td>1</td>\n",
       "    </tr>\n",
       "    <tr>\n",
       "      <th>5510</th>\n",
       "      <td>jokerunning</td>\n",
       "      <td>1</td>\n",
       "    </tr>\n",
       "    <tr>\n",
       "      <th>294</th>\n",
       "      <td>alicia</td>\n",
       "      <td>1</td>\n",
       "    </tr>\n",
       "    <tr>\n",
       "      <th>12065</th>\n",
       "      <td>zzps</td>\n",
       "      <td>1</td>\n",
       "    </tr>\n",
       "  </tbody>\n",
       "</table>\n",
       "<p>12066 rows × 2 columns</p>\n",
       "</div>"
      ],
      "text/plain": [
       "                Tag  Count\n",
       "3758         flight   4426\n",
       "11094     usairways   3016\n",
       "364     americanair   2935\n",
       "9682   southwestair   2406\n",
       "5428        jetblue   2340\n",
       "...             ...    ...\n",
       "5514           joni      1\n",
       "5511      jokesonus      1\n",
       "5510    jokerunning      1\n",
       "294          alicia      1\n",
       "12065          zzps      1\n",
       "\n",
       "[12066 rows x 2 columns]"
      ]
     },
     "execution_count": 26,
     "metadata": {},
     "output_type": "execute_result"
    }
   ],
   "source": [
    "word_count_df"
   ]
  },
  {
   "cell_type": "code",
   "execution_count": 27,
   "metadata": {
    "colab": {
     "base_uri": "https://localhost:8080/"
    },
    "executionInfo": {
     "elapsed": 292,
     "status": "ok",
     "timestamp": 1665645034897,
     "user": {
      "displayName": "Nemania Borovits",
      "userId": "12051785864540074566"
     },
     "user_tz": -120
    },
    "id": "MXs8KYLre9uQ",
    "outputId": "3c8d2135-374a-43b7-8907-1deefbd67267"
   },
   "outputs": [
    {
     "data": {
      "text/plain": [
       "11.150256920271838"
      ]
     },
     "execution_count": 27,
     "metadata": {},
     "output_type": "execute_result"
    }
   ],
   "source": [
    "word_count_df[\"Count\"].mean()"
   ]
  },
  {
   "cell_type": "code",
   "execution_count": 28,
   "metadata": {
    "colab": {
     "base_uri": "https://localhost:8080/"
    },
    "executionInfo": {
     "elapsed": 320,
     "status": "ok",
     "timestamp": 1665645038124,
     "user": {
      "displayName": "Nemania Borovits",
      "userId": "12051785864540074566"
     },
     "user_tz": -120
    },
    "id": "4CyMyhQ0f-2V",
    "outputId": "3c1d79f5-6e73-450e-cd46-323cdc2e5c4f"
   },
   "outputs": [
    {
     "data": {
      "text/plain": [
       "78.90372284629974"
      ]
     },
     "execution_count": 28,
     "metadata": {},
     "output_type": "execute_result"
    }
   ],
   "source": [
    "word_count_df[\"Count\"].std()"
   ]
  },
  {
   "cell_type": "code",
   "execution_count": 29,
   "metadata": {
    "colab": {
     "base_uri": "https://localhost:8080/"
    },
    "executionInfo": {
     "elapsed": 4,
     "status": "ok",
     "timestamp": 1665645040297,
     "user": {
      "displayName": "Nemania Borovits",
      "userId": "12051785864540074566"
     },
     "user_tz": -120
    },
    "id": "9-I_DgSLgDfa",
    "outputId": "c339c230-8677-4f25-9bd6-fa807569d591"
   },
   "outputs": [
    {
     "data": {
      "text/plain": [
       "count    12066.000000\n",
       "mean        11.150257\n",
       "std         78.903723\n",
       "min          1.000000\n",
       "25%          1.000000\n",
       "50%          1.000000\n",
       "75%          4.000000\n",
       "max       4426.000000\n",
       "Name: Count, dtype: float64"
      ]
     },
     "execution_count": 29,
     "metadata": {},
     "output_type": "execute_result"
    }
   ],
   "source": [
    "word_count_df[\"Count\"].describe()"
   ]
  },
  {
   "cell_type": "markdown",
   "metadata": {
    "id": "d62D788GY8ly"
   },
   "source": [
    "<h2>Tune CountVectorizer with absolute number of features and ngrams</h2>"
   ]
  },
  {
   "cell_type": "code",
   "execution_count": 30,
   "metadata": {
    "executionInfo": {
     "elapsed": 2,
     "status": "ok",
     "timestamp": 1665645316347,
     "user": {
      "displayName": "Nemania Borovits",
      "userId": "12051785864540074566"
     },
     "user_tz": -120
    },
    "id": "unP5Z13uhKjs"
   },
   "outputs": [],
   "source": [
    "def ngrams_features(clean_texts):\n",
    "    ngrams = [(1, 1), (1, 2), (1, 3), (2, 2), (3, 3)]\n",
    "    features_list = [5000, 4000, 3000, 2000, 1000]\n",
    "\n",
    "    test_df = pd.DataFrame(columns=[\"ngram\", \"feature_num\", \"accuracy\"])\n",
    "\n",
    "    for ngram in ngrams:\n",
    "        for feat in features_list:\n",
    "            count_vectorizer = CountVectorizer(analyzer=\"word\", ngram_range=ngram, max_features=feat, stop_words=stop_words)\n",
    "            X_feat = count_vectorizer.fit_transform(clean_texts).toarray()\n",
    "\n",
    "            # Create a model instance and split dataset to train and test sets\n",
    "            model = MultinomialNB()\n",
    "            X_train, X_test, Y_train, Y_test = train_test_split(X_feat, Y, test_size=0.3)\n",
    "\n",
    "            # Fit the model using training set\n",
    "            model.fit(X_train, Y_train)\n",
    "\n",
    "            y_pred = model.predict(X_test)\n",
    "\n",
    "            classification = classification_report(Y_test, y_pred, output_dict=True)\n",
    "\n",
    "            res_dict = {\"ngram\": ngram, \"feature_num\": feat, \"accuracy\": classification[\"accuracy\"]}\n",
    "            res_df = pd.DataFrame([res_dict])\n",
    "\n",
    "            test_df = pd.concat([test_df, res_df], ignore_index=True, axis=0)\n",
    "\n",
    "    return test_df"
   ]
  },
  {
   "cell_type": "code",
   "execution_count": 31,
   "metadata": {
    "colab": {
     "base_uri": "https://localhost:8080/",
     "height": 833
    },
    "executionInfo": {
     "elapsed": 41713,
     "status": "ok",
     "timestamp": 1665645360027,
     "user": {
      "displayName": "Nemania Borovits",
      "userId": "12051785864540074566"
     },
     "user_tz": -120
    },
    "id": "tmizkY8JYGUo",
    "outputId": "48619316-bdcf-4e59-80cb-974eaea6cb34"
   },
   "outputs": [
    {
     "data": {
      "text/html": [
       "<div>\n",
       "<style scoped>\n",
       "    .dataframe tbody tr th:only-of-type {\n",
       "        vertical-align: middle;\n",
       "    }\n",
       "\n",
       "    .dataframe tbody tr th {\n",
       "        vertical-align: top;\n",
       "    }\n",
       "\n",
       "    .dataframe thead th {\n",
       "        text-align: right;\n",
       "    }\n",
       "</style>\n",
       "<table border=\"1\" class=\"dataframe\">\n",
       "  <thead>\n",
       "    <tr style=\"text-align: right;\">\n",
       "      <th></th>\n",
       "      <th>ngram</th>\n",
       "      <th>feature_num</th>\n",
       "      <th>accuracy</th>\n",
       "    </tr>\n",
       "  </thead>\n",
       "  <tbody>\n",
       "    <tr>\n",
       "      <th>0</th>\n",
       "      <td>(1, 1)</td>\n",
       "      <td>5000</td>\n",
       "      <td>0.780973</td>\n",
       "    </tr>\n",
       "    <tr>\n",
       "      <th>7</th>\n",
       "      <td>(1, 2)</td>\n",
       "      <td>3000</td>\n",
       "      <td>0.778097</td>\n",
       "    </tr>\n",
       "    <tr>\n",
       "      <th>13</th>\n",
       "      <td>(1, 3)</td>\n",
       "      <td>2000</td>\n",
       "      <td>0.776420</td>\n",
       "    </tr>\n",
       "    <tr>\n",
       "      <th>10</th>\n",
       "      <td>(1, 3)</td>\n",
       "      <td>5000</td>\n",
       "      <td>0.775701</td>\n",
       "    </tr>\n",
       "    <tr>\n",
       "      <th>8</th>\n",
       "      <td>(1, 2)</td>\n",
       "      <td>2000</td>\n",
       "      <td>0.774023</td>\n",
       "    </tr>\n",
       "    <tr>\n",
       "      <th>5</th>\n",
       "      <td>(1, 2)</td>\n",
       "      <td>5000</td>\n",
       "      <td>0.773784</td>\n",
       "    </tr>\n",
       "    <tr>\n",
       "      <th>3</th>\n",
       "      <td>(1, 1)</td>\n",
       "      <td>2000</td>\n",
       "      <td>0.772586</td>\n",
       "    </tr>\n",
       "    <tr>\n",
       "      <th>1</th>\n",
       "      <td>(1, 1)</td>\n",
       "      <td>4000</td>\n",
       "      <td>0.769470</td>\n",
       "    </tr>\n",
       "    <tr>\n",
       "      <th>11</th>\n",
       "      <td>(1, 3)</td>\n",
       "      <td>4000</td>\n",
       "      <td>0.766355</td>\n",
       "    </tr>\n",
       "    <tr>\n",
       "      <th>2</th>\n",
       "      <td>(1, 1)</td>\n",
       "      <td>3000</td>\n",
       "      <td>0.766355</td>\n",
       "    </tr>\n",
       "    <tr>\n",
       "      <th>9</th>\n",
       "      <td>(1, 2)</td>\n",
       "      <td>1000</td>\n",
       "      <td>0.765157</td>\n",
       "    </tr>\n",
       "    <tr>\n",
       "      <th>12</th>\n",
       "      <td>(1, 3)</td>\n",
       "      <td>3000</td>\n",
       "      <td>0.764917</td>\n",
       "    </tr>\n",
       "    <tr>\n",
       "      <th>6</th>\n",
       "      <td>(1, 2)</td>\n",
       "      <td>4000</td>\n",
       "      <td>0.762042</td>\n",
       "    </tr>\n",
       "    <tr>\n",
       "      <th>4</th>\n",
       "      <td>(1, 1)</td>\n",
       "      <td>1000</td>\n",
       "      <td>0.759406</td>\n",
       "    </tr>\n",
       "    <tr>\n",
       "      <th>14</th>\n",
       "      <td>(1, 3)</td>\n",
       "      <td>1000</td>\n",
       "      <td>0.756051</td>\n",
       "    </tr>\n",
       "    <tr>\n",
       "      <th>17</th>\n",
       "      <td>(2, 2)</td>\n",
       "      <td>3000</td>\n",
       "      <td>0.710280</td>\n",
       "    </tr>\n",
       "    <tr>\n",
       "      <th>15</th>\n",
       "      <td>(2, 2)</td>\n",
       "      <td>5000</td>\n",
       "      <td>0.710041</td>\n",
       "    </tr>\n",
       "    <tr>\n",
       "      <th>18</th>\n",
       "      <td>(2, 2)</td>\n",
       "      <td>2000</td>\n",
       "      <td>0.707165</td>\n",
       "    </tr>\n",
       "    <tr>\n",
       "      <th>19</th>\n",
       "      <td>(2, 2)</td>\n",
       "      <td>1000</td>\n",
       "      <td>0.702852</td>\n",
       "    </tr>\n",
       "    <tr>\n",
       "      <th>16</th>\n",
       "      <td>(2, 2)</td>\n",
       "      <td>4000</td>\n",
       "      <td>0.701174</td>\n",
       "    </tr>\n",
       "    <tr>\n",
       "      <th>22</th>\n",
       "      <td>(3, 3)</td>\n",
       "      <td>3000</td>\n",
       "      <td>0.680566</td>\n",
       "    </tr>\n",
       "    <tr>\n",
       "      <th>24</th>\n",
       "      <td>(3, 3)</td>\n",
       "      <td>1000</td>\n",
       "      <td>0.672658</td>\n",
       "    </tr>\n",
       "    <tr>\n",
       "      <th>23</th>\n",
       "      <td>(3, 3)</td>\n",
       "      <td>2000</td>\n",
       "      <td>0.667625</td>\n",
       "    </tr>\n",
       "    <tr>\n",
       "      <th>20</th>\n",
       "      <td>(3, 3)</td>\n",
       "      <td>5000</td>\n",
       "      <td>0.664750</td>\n",
       "    </tr>\n",
       "    <tr>\n",
       "      <th>21</th>\n",
       "      <td>(3, 3)</td>\n",
       "      <td>4000</td>\n",
       "      <td>0.664031</td>\n",
       "    </tr>\n",
       "  </tbody>\n",
       "</table>\n",
       "</div>"
      ],
      "text/plain": [
       "     ngram feature_num  accuracy\n",
       "0   (1, 1)        5000  0.780973\n",
       "7   (1, 2)        3000  0.778097\n",
       "13  (1, 3)        2000  0.776420\n",
       "10  (1, 3)        5000  0.775701\n",
       "8   (1, 2)        2000  0.774023\n",
       "5   (1, 2)        5000  0.773784\n",
       "3   (1, 1)        2000  0.772586\n",
       "1   (1, 1)        4000  0.769470\n",
       "11  (1, 3)        4000  0.766355\n",
       "2   (1, 1)        3000  0.766355\n",
       "9   (1, 2)        1000  0.765157\n",
       "12  (1, 3)        3000  0.764917\n",
       "6   (1, 2)        4000  0.762042\n",
       "4   (1, 1)        1000  0.759406\n",
       "14  (1, 3)        1000  0.756051\n",
       "17  (2, 2)        3000  0.710280\n",
       "15  (2, 2)        5000  0.710041\n",
       "18  (2, 2)        2000  0.707165\n",
       "19  (2, 2)        1000  0.702852\n",
       "16  (2, 2)        4000  0.701174\n",
       "22  (3, 3)        3000  0.680566\n",
       "24  (3, 3)        1000  0.672658\n",
       "23  (3, 3)        2000  0.667625\n",
       "20  (3, 3)        5000  0.664750\n",
       "21  (3, 3)        4000  0.664031"
      ]
     },
     "execution_count": 31,
     "metadata": {},
     "output_type": "execute_result"
    }
   ],
   "source": [
    "ngrams_features(clean_text).sort_values(by=[\"accuracy\"], ascending=False)"
   ]
  },
  {
   "cell_type": "markdown",
   "metadata": {
    "id": "-nNFNzm9dum0"
   },
   "source": [
    "<h2>Tune CountVectorizer with max/min document frequency and ngrams</h2>"
   ]
  },
  {
   "cell_type": "code",
   "execution_count": 32,
   "metadata": {
    "executionInfo": {
     "elapsed": 342,
     "status": "ok",
     "timestamp": 1665645470007,
     "user": {
      "displayName": "Nemania Borovits",
      "userId": "12051785864540074566"
     },
     "user_tz": -120
    },
    "id": "ex5JLaszifZo"
   },
   "outputs": [],
   "source": [
    "def ngrams_maxdocfreq(clean_texts):\n",
    "    ngrams = [(1, 1), (1, 2), (1, 3), (2, 2), (3, 3)]\n",
    "    termfreqlist = [2, 3]\n",
    "\n",
    "    test_df = pd.DataFrame(columns=[\"ngram\", \"term_frequency\", \"accuracy\"])\n",
    "\n",
    "    for ngram in ngrams:\n",
    "        for termfreq in termfreqlist:\n",
    "            count_vectorizer = CountVectorizer(analyzer=\"word\", ngram_range=ngram, min_df=termfreq, stop_words=stop_words)\n",
    "            X_feat = count_vectorizer.fit_transform(clean_texts).toarray()\n",
    "\n",
    "            # Create a model instance and split dataset to train and test sets\n",
    "            model = MultinomialNB()\n",
    "            X_train, X_test, Y_train, Y_test = train_test_split(X_feat, Y, test_size=0.3)\n",
    "\n",
    "            # Fit the model using training set\n",
    "            model.fit(X_train, Y_train)\n",
    "\n",
    "            y_pred = model.predict(X_test)\n",
    "\n",
    "            classification = classification_report(Y_test, y_pred, output_dict=True)\n",
    "\n",
    "            res_dict = {\"ngram\": ngram, \"term_frequency\": termfreq, \"accuracy\": classification[\"accuracy\"]}\n",
    "            res_df = pd.DataFrame([res_dict])\n",
    "\n",
    "            test_df = pd.concat([test_df, res_df], ignore_index=True, axis=0)\n",
    "\n",
    "    return test_df"
   ]
  },
  {
   "cell_type": "code",
   "execution_count": 33,
   "metadata": {
    "colab": {
     "base_uri": "https://localhost:8080/",
     "height": 363
    },
    "executionInfo": {
     "elapsed": 74054,
     "status": "ok",
     "timestamp": 1665645545712,
     "user": {
      "displayName": "Nemania Borovits",
      "userId": "12051785864540074566"
     },
     "user_tz": -120
    },
    "id": "MTj2G0Hxdtx1",
    "outputId": "102a9a4b-9bda-4be3-ce26-b35ff471f162"
   },
   "outputs": [
    {
     "data": {
      "text/html": [
       "<div>\n",
       "<style scoped>\n",
       "    .dataframe tbody tr th:only-of-type {\n",
       "        vertical-align: middle;\n",
       "    }\n",
       "\n",
       "    .dataframe tbody tr th {\n",
       "        vertical-align: top;\n",
       "    }\n",
       "\n",
       "    .dataframe thead th {\n",
       "        text-align: right;\n",
       "    }\n",
       "</style>\n",
       "<table border=\"1\" class=\"dataframe\">\n",
       "  <thead>\n",
       "    <tr style=\"text-align: right;\">\n",
       "      <th></th>\n",
       "      <th>ngram</th>\n",
       "      <th>term_frequency</th>\n",
       "      <th>accuracy</th>\n",
       "    </tr>\n",
       "  </thead>\n",
       "  <tbody>\n",
       "    <tr>\n",
       "      <th>4</th>\n",
       "      <td>(1, 3)</td>\n",
       "      <td>2</td>\n",
       "      <td>0.783369</td>\n",
       "    </tr>\n",
       "    <tr>\n",
       "      <th>3</th>\n",
       "      <td>(1, 2)</td>\n",
       "      <td>3</td>\n",
       "      <td>0.782890</td>\n",
       "    </tr>\n",
       "    <tr>\n",
       "      <th>2</th>\n",
       "      <td>(1, 2)</td>\n",
       "      <td>2</td>\n",
       "      <td>0.780014</td>\n",
       "    </tr>\n",
       "    <tr>\n",
       "      <th>5</th>\n",
       "      <td>(1, 3)</td>\n",
       "      <td>3</td>\n",
       "      <td>0.777618</td>\n",
       "    </tr>\n",
       "    <tr>\n",
       "      <th>1</th>\n",
       "      <td>(1, 1)</td>\n",
       "      <td>3</td>\n",
       "      <td>0.774263</td>\n",
       "    </tr>\n",
       "    <tr>\n",
       "      <th>0</th>\n",
       "      <td>(1, 1)</td>\n",
       "      <td>2</td>\n",
       "      <td>0.773065</td>\n",
       "    </tr>\n",
       "    <tr>\n",
       "      <th>6</th>\n",
       "      <td>(2, 2)</td>\n",
       "      <td>2</td>\n",
       "      <td>0.704289</td>\n",
       "    </tr>\n",
       "    <tr>\n",
       "      <th>7</th>\n",
       "      <td>(2, 2)</td>\n",
       "      <td>3</td>\n",
       "      <td>0.702372</td>\n",
       "    </tr>\n",
       "    <tr>\n",
       "      <th>8</th>\n",
       "      <td>(3, 3)</td>\n",
       "      <td>2</td>\n",
       "      <td>0.668344</td>\n",
       "    </tr>\n",
       "    <tr>\n",
       "      <th>9</th>\n",
       "      <td>(3, 3)</td>\n",
       "      <td>3</td>\n",
       "      <td>0.667865</td>\n",
       "    </tr>\n",
       "  </tbody>\n",
       "</table>\n",
       "</div>"
      ],
      "text/plain": [
       "    ngram term_frequency  accuracy\n",
       "4  (1, 3)              2  0.783369\n",
       "3  (1, 2)              3  0.782890\n",
       "2  (1, 2)              2  0.780014\n",
       "5  (1, 3)              3  0.777618\n",
       "1  (1, 1)              3  0.774263\n",
       "0  (1, 1)              2  0.773065\n",
       "6  (2, 2)              2  0.704289\n",
       "7  (2, 2)              3  0.702372\n",
       "8  (3, 3)              2  0.668344\n",
       "9  (3, 3)              3  0.667865"
      ]
     },
     "execution_count": 33,
     "metadata": {},
     "output_type": "execute_result"
    }
   ],
   "source": [
    "ngrams_maxdocfreq(clean_text).sort_values(by=[\"accuracy\"], ascending=False)"
   ]
  },
  {
   "cell_type": "markdown",
   "metadata": {
    "id": "HoGZzBaHWPnk"
   },
   "source": [
    "<h2>Tuning model performance expanding the stop words</h2>"
   ]
  },
  {
   "cell_type": "code",
   "execution_count": 34,
   "metadata": {
    "executionInfo": {
     "elapsed": 844,
     "status": "ok",
     "timestamp": 1665645590764,
     "user": {
      "displayName": "Nemania Borovits",
      "userId": "12051785864540074566"
     },
     "user_tz": -120
    },
    "id": "pqInhEqsWtwC"
   },
   "outputs": [],
   "source": [
    "from copy import deepcopy\n",
    "\n",
    "\n",
    "df2 = deepcopy(word_count_df)"
   ]
  },
  {
   "cell_type": "code",
   "execution_count": 35,
   "metadata": {
    "colab": {
     "base_uri": "https://localhost:8080/"
    },
    "executionInfo": {
     "elapsed": 3,
     "status": "ok",
     "timestamp": 1665645591072,
     "user": {
      "displayName": "Nemania Borovits",
      "userId": "12051785864540074566"
     },
     "user_tz": -120
    },
    "id": "H_0TKBeAWuJN",
    "outputId": "9abd0f7c-8f49-482a-de83-dcda67bd6d15"
   },
   "outputs": [
    {
     "data": {
      "text/plain": [
       "10459"
      ]
     },
     "execution_count": 35,
     "metadata": {},
     "output_type": "execute_result"
    }
   ],
   "source": [
    "df2 = df2[df2[\"Count\"] < 10]\n",
    "\n",
    "len(df2[\"Tag\"].unique())"
   ]
  },
  {
   "cell_type": "code",
   "execution_count": 36,
   "metadata": {
    "colab": {
     "base_uri": "https://localhost:8080/"
    },
    "executionInfo": {
     "elapsed": 301,
     "status": "ok",
     "timestamp": 1665645619946,
     "user": {
      "displayName": "Nemania Borovits",
      "userId": "12051785864540074566"
     },
     "user_tz": -120
    },
    "id": "Z00lrz6SWuLl",
    "outputId": "6b3d6c94-c242-40ff-ae8f-ab1ef0d3fcfd"
   },
   "outputs": [
    {
     "data": {
      "text/plain": [
       "20189"
      ]
     },
     "execution_count": 36,
     "metadata": {},
     "output_type": "execute_result"
    }
   ],
   "source": [
    "df2[\"Count\"].sum()"
   ]
  },
  {
   "cell_type": "code",
   "execution_count": 37,
   "metadata": {
    "colab": {
     "base_uri": "https://localhost:8080/",
     "height": 363
    },
    "executionInfo": {
     "elapsed": 331,
     "status": "ok",
     "timestamp": 1665645624633,
     "user": {
      "displayName": "Nemania Borovits",
      "userId": "12051785864540074566"
     },
     "user_tz": -120
    },
    "id": "dfRY4qQvWuOH",
    "outputId": "7b7e5c0f-978e-4e24-c126-1060ad9aeea7"
   },
   "outputs": [
    {
     "data": {
      "text/html": [
       "<div>\n",
       "<style scoped>\n",
       "    .dataframe tbody tr th:only-of-type {\n",
       "        vertical-align: middle;\n",
       "    }\n",
       "\n",
       "    .dataframe tbody tr th {\n",
       "        vertical-align: top;\n",
       "    }\n",
       "\n",
       "    .dataframe thead th {\n",
       "        text-align: right;\n",
       "    }\n",
       "</style>\n",
       "<table border=\"1\" class=\"dataframe\">\n",
       "  <thead>\n",
       "    <tr style=\"text-align: right;\">\n",
       "      <th></th>\n",
       "      <th>Tag</th>\n",
       "    </tr>\n",
       "    <tr>\n",
       "      <th>Count</th>\n",
       "      <th></th>\n",
       "    </tr>\n",
       "  </thead>\n",
       "  <tbody>\n",
       "    <tr>\n",
       "      <th>1</th>\n",
       "      <td>6812</td>\n",
       "    </tr>\n",
       "    <tr>\n",
       "      <th>2</th>\n",
       "      <td>1479</td>\n",
       "    </tr>\n",
       "    <tr>\n",
       "      <th>3</th>\n",
       "      <td>731</td>\n",
       "    </tr>\n",
       "    <tr>\n",
       "      <th>4</th>\n",
       "      <td>457</td>\n",
       "    </tr>\n",
       "    <tr>\n",
       "      <th>5</th>\n",
       "      <td>310</td>\n",
       "    </tr>\n",
       "    <tr>\n",
       "      <th>6</th>\n",
       "      <td>219</td>\n",
       "    </tr>\n",
       "    <tr>\n",
       "      <th>7</th>\n",
       "      <td>197</td>\n",
       "    </tr>\n",
       "    <tr>\n",
       "      <th>8</th>\n",
       "      <td>131</td>\n",
       "    </tr>\n",
       "    <tr>\n",
       "      <th>9</th>\n",
       "      <td>123</td>\n",
       "    </tr>\n",
       "  </tbody>\n",
       "</table>\n",
       "</div>"
      ],
      "text/plain": [
       "        Tag\n",
       "Count      \n",
       "1      6812\n",
       "2      1479\n",
       "3       731\n",
       "4       457\n",
       "5       310\n",
       "6       219\n",
       "7       197\n",
       "8       131\n",
       "9       123"
      ]
     },
     "execution_count": 37,
     "metadata": {},
     "output_type": "execute_result"
    }
   ],
   "source": [
    "df2.groupby([\"Count\"]).count()"
   ]
  },
  {
   "cell_type": "code",
   "execution_count": 38,
   "metadata": {
    "colab": {
     "base_uri": "https://localhost:8080/",
     "height": 424
    },
    "executionInfo": {
     "elapsed": 321,
     "status": "ok",
     "timestamp": 1665645654340,
     "user": {
      "displayName": "Nemania Borovits",
      "userId": "12051785864540074566"
     },
     "user_tz": -120
    },
    "id": "LTeWA11bW2_j",
    "outputId": "803d4f41-154d-4092-f08a-75dfc43091f9"
   },
   "outputs": [
    {
     "data": {
      "text/plain": [
       "6812"
      ]
     },
     "execution_count": 38,
     "metadata": {},
     "output_type": "execute_result"
    }
   ],
   "source": [
    "df2 = df2[df2[\"Count\"] == 1]\n",
    "\n",
    "len(df2[\"Tag\"].unique())"
   ]
  },
  {
   "cell_type": "code",
   "execution_count": 39,
   "metadata": {
    "colab": {
     "base_uri": "https://localhost:8080/"
    },
    "executionInfo": {
     "elapsed": 8,
     "status": "ok",
     "timestamp": 1665645656880,
     "user": {
      "displayName": "Nemania Borovits",
      "userId": "12051785864540074566"
     },
     "user_tz": -120
    },
    "id": "rDaFj14uMeB1",
    "outputId": "5df94e11-6817-49ca-e4bf-28337ff621b3"
   },
   "outputs": [
    {
     "data": {
      "text/plain": [
       "186"
      ]
     },
     "execution_count": 39,
     "metadata": {},
     "output_type": "execute_result"
    }
   ],
   "source": [
    "len(stop_words)"
   ]
  },
  {
   "cell_type": "code",
   "execution_count": 40,
   "metadata": {
    "executionInfo": {
     "elapsed": 405,
     "status": "ok",
     "timestamp": 1665645664401,
     "user": {
      "displayName": "Nemania Borovits",
      "userId": "12051785864540074566"
     },
     "user_tz": -120
    },
    "id": "HUtjdwQgMKuq"
   },
   "outputs": [],
   "source": [
    "for word in df2[\"Tag\"]:\n",
    "    stop_words.append(word)"
   ]
  },
  {
   "cell_type": "code",
   "execution_count": 41,
   "metadata": {
    "colab": {
     "base_uri": "https://localhost:8080/"
    },
    "executionInfo": {
     "elapsed": 320,
     "status": "ok",
     "timestamp": 1665645675031,
     "user": {
      "displayName": "Nemania Borovits",
      "userId": "12051785864540074566"
     },
     "user_tz": -120
    },
    "id": "UJD5x9WZMa2k",
    "outputId": "77e9a024-b1fd-46c1-9073-813f44a0d6cd"
   },
   "outputs": [
    {
     "data": {
      "text/plain": [
       "6998"
      ]
     },
     "execution_count": 41,
     "metadata": {},
     "output_type": "execute_result"
    }
   ],
   "source": [
    "len(stop_words)"
   ]
  },
  {
   "cell_type": "code",
   "execution_count": 42,
   "metadata": {
    "colab": {
     "base_uri": "https://localhost:8080/"
    },
    "executionInfo": {
     "elapsed": 3724,
     "status": "ok",
     "timestamp": 1665645706840,
     "user": {
      "displayName": "Nemania Borovits",
      "userId": "12051785864540074566"
     },
     "user_tz": -120
    },
    "id": "eie-SNWWw-1O",
    "outputId": "c23e50cb-2a2c-4430-b005-9447bf59c5bd"
   },
   "outputs": [
    {
     "name": "stdout",
     "output_type": "stream",
     "text": [
      "(13910, 5254)\n"
     ]
    }
   ],
   "source": [
    "count_vectorizer = CountVectorizer(analyzer=\"word\", stop_words=stop_words)\n",
    "X_feat = count_vectorizer.fit_transform(clean_text).toarray()\n",
    "\n",
    "print(X_feat.shape)\n",
    "\n",
    "# Create a model instance and split dataset to train and test sets\n",
    "model = MultinomialNB()\n",
    "X_train, X_test, Y_train, Y_test = train_test_split(X_feat, Y, test_size=0.3)\n",
    "\n",
    "# Fit the model using training set\n",
    "model.fit(X_train, Y_train)\n",
    "\n",
    "y_pred = model.predict(X_test)\n",
    "\n",
    "classification = classification_report(Y_test, y_pred, output_dict=True)"
   ]
  },
  {
   "cell_type": "code",
   "execution_count": 43,
   "metadata": {
    "colab": {
     "base_uri": "https://localhost:8080/"
    },
    "executionInfo": {
     "elapsed": 6,
     "status": "ok",
     "timestamp": 1665645707212,
     "user": {
      "displayName": "Nemania Borovits",
      "userId": "12051785864540074566"
     },
     "user_tz": -120
    },
    "id": "hHDoeTSs4FXg",
    "outputId": "95512b50-5ae9-4e4b-f2e9-6e8539897d70"
   },
   "outputs": [
    {
     "data": {
      "text/plain": [
       "0.7687514977234603"
      ]
     },
     "execution_count": 43,
     "metadata": {},
     "output_type": "execute_result"
    }
   ],
   "source": [
    "classification[\"accuracy\"]"
   ]
  }
 ],
 "metadata": {
  "colab": {
   "authorship_tag": "ABX9TyNP9WW329cOKF9p5iM/Nb33",
   "collapsed_sections": [],
   "provenance": []
  },
  "kernelspec": {
   "display_name": "Python 3 (ipykernel)",
   "language": "python",
   "name": "python3"
  },
  "language_info": {
   "codemirror_mode": {
    "name": "ipython",
    "version": 3
   },
   "file_extension": ".py",
   "mimetype": "text/x-python",
   "name": "python",
   "nbconvert_exporter": "python",
   "pygments_lexer": "ipython3",
   "version": "3.8.10"
  },
  "vscode": {
   "interpreter": {
    "hash": "bc9c87118fcbfe461a5cc3afb9c456808dab9f04ad48e3ae061286103ceb51f6"
   }
  }
 },
 "nbformat": 4,
 "nbformat_minor": 4
}
